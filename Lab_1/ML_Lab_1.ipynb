{
  "nbformat": 4,
  "nbformat_minor": 0,
  "metadata": {
    "colab": {
      "name": "ML Lab -1.ipynb",
      "version": "0.3.2",
      "provenance": [],
      "collapsed_sections": [
        "ceq7YAJkXbSX",
        "Vi3Kk5x2XbSi",
        "eMlgGNIJXbSw"
      ]
    },
    "kernelspec": {
      "name": "python3",
      "display_name": "Python 3"
    },
    "accelerator": "GPU"
  },
  "cells": [
    {
      "cell_type": "markdown",
      "metadata": {
        "id": "3njljuHtAQIp",
        "colab_type": "text"
      },
      "source": [
        "## Jupyter Notebook and Linux"
      ]
    },
    {
      "cell_type": "markdown",
      "metadata": {
        "id": "dfnQqsEBAjTz",
        "colab_type": "text"
      },
      "source": [
        "### Jupyter Noteboks\n",
        "\n",
        "The current platform (Colab) you are working on is based on Jupyter notebooks. These notebooks integrate code and its output into a single document. All the code blocks in a notebook are run by a same python kernel, and so the variables, function definitions etc are persistant across the code blocks (i.e. the whole notebook is a like a single code file but we are executing parts of it at a time).\n",
        "\n",
        "Basic commands:\n",
        "\n",
        "\n",
        "\n",
        "*   Shift + Enter = Execute the code block and goto next block\n",
        "*   Ctrl + Enter = Execute the code block\n",
        "*   Ctrl + / = Comment out the selected lines\n",
        "*   Tab = suggest auto-complete\n",
        "*   Tab inside function braces = suggest docstring/parameters\n",
        "\n",
        "\n",
        "\n",
        "\n",
        "[Jupyter magic commands](https://jakevdp.github.io/PythonDataScienceHandbook/01.07-timing-and-profiling.html):\n",
        "\n",
        "Note : % is line magic and works only for that particular line while %% is cell magic and runs on the whole code block\n",
        "\n",
        "*   %time - measure the [time taken](https://stackoverflow.com/a/47478852) to run the particular line of code\n",
        "*   %%time - measure the time taken to run the particular block of code\n",
        "*   %prun - run [code profiling](https://en.wikipedia.org/wiki/Profiling_(computer_programming) on the block\n",
        "\n",
        "You can access commonly used code snippets and files by clicking on the arrow at the left margin of the screen.\n",
        "\n",
        "See the [docs here](https://jupyter.readthedocs.io/en/latest/)"
      ]
    },
    {
      "cell_type": "code",
      "metadata": {
        "id": "psRfO5KYAiEg",
        "colab_type": "code",
        "colab": {}
      },
      "source": [
        "# Press shift+enter or ctrl+enter to execute this block\n",
        "\n",
        "def simple_interest(principle, rate, time):\n",
        "  '''\n",
        "  Returns the simple interest.\n",
        "  \n",
        "  interest = principle*rate*time/100\n",
        "  '''\n",
        "  \n",
        "  interest = principle*rate*time/100\n",
        "  return interest"
      ],
      "execution_count": 0,
      "outputs": []
    },
    {
      "cell_type": "code",
      "metadata": {
        "id": "LwFIK_ksKYZ3",
        "colab_type": "code",
        "colab": {}
      },
      "source": [
        "%time simple_interest(100, 1, 5)\n",
        "\n",
        "simple_interest(100, 1, 5)\n",
        "simple_interest(100, 1, 5)\n",
        "simple_interest(100, 1, 5)\n",
        "simple_interest(100, 1, 5)"
      ],
      "execution_count": 0,
      "outputs": []
    },
    {
      "cell_type": "code",
      "metadata": {
        "id": "2p9s5mobKrSF",
        "colab_type": "code",
        "colab": {}
      },
      "source": [
        "%%time \n",
        "\n",
        "simple_interest(100, 1, 5)\n",
        "\n",
        "a = 5**10000"
      ],
      "execution_count": 0,
      "outputs": []
    },
    {
      "cell_type": "code",
      "metadata": {
        "id": "a6q8GIiyF5Xr",
        "colab_type": "code",
        "colab": {}
      },
      "source": [
        "%prun simple_interest(100, 1, 5)"
      ],
      "execution_count": 0,
      "outputs": []
    },
    {
      "cell_type": "markdown",
      "metadata": {
        "id": "vkX3IJ6fLM2o",
        "colab_type": "text"
      },
      "source": [
        "### Linux\n",
        "\n",
        "\n",
        "\n",
        "Prefix ! before these commands while running in a code block. (Even though it runs without prefixing, it is good practice to differentiate python code from linux commands)\n",
        "\n",
        "Basic commands:\n",
        "\n",
        "\n",
        "\n",
        "*   cd \\<directory path>= change directory (goto directory path)\n",
        "*   ls = list contents of current directory\n",
        "*   rm \\<file path> = remove file\n",
        "*   rm -r \\<dir path> = remove the directory and its contents\n",
        "*   mkdir \\<name of dir> = make a new directory\n",
        "*   \\<command1> && \\<command2> = execute command1 then command2\n",
        "*   \\<command1> | \\<command2> = [Pipe](https://www.guru99.com/linux-pipe-grep.html#1) command1 to command 2\n",
        "\n",
        "[The Internet is your friend](http://cheatsheetworld.com/programming/unix-linux-cheat-sheet/)\n",
        "\n"
      ]
    },
    {
      "cell_type": "code",
      "metadata": {
        "id": "mC8vVKdBMJHv",
        "colab_type": "code",
        "colab": {}
      },
      "source": [
        "!ls"
      ],
      "execution_count": 0,
      "outputs": []
    },
    {
      "cell_type": "code",
      "metadata": {
        "id": "JFGsWmiFMeKD",
        "colab_type": "code",
        "colab": {}
      },
      "source": [
        "!mkdir checkthisout && ls"
      ],
      "execution_count": 0,
      "outputs": []
    },
    {
      "cell_type": "code",
      "metadata": {
        "id": "6EJ4AZqdNGhk",
        "colab_type": "code",
        "colab": {}
      },
      "source": [
        "!cd checkthisout && mkdir new && ls"
      ],
      "execution_count": 0,
      "outputs": []
    },
    {
      "cell_type": "code",
      "metadata": {
        "id": "Dg7txMnmM9GA",
        "colab_type": "code",
        "colab": {}
      },
      "source": [
        "!rm -r checkthisout/ && ls"
      ],
      "execution_count": 0,
      "outputs": []
    },
    {
      "cell_type": "markdown",
      "metadata": {
        "id": "bLpeOb0NXbOU",
        "colab_type": "text"
      },
      "source": [
        "## Python 3\n",
        "\n",
        "A very basic tutorial. Checkout [this tutorial](https://jakevdp.github.io/PythonDataScienceHandbook/) for a indepth view."
      ]
    },
    {
      "cell_type": "markdown",
      "metadata": {
        "id": "Bb4egewDXbOZ",
        "colab_type": "text"
      },
      "source": [
        "#### Basics"
      ]
    },
    {
      "cell_type": "code",
      "metadata": {
        "id": "IdwEkj6cXbOb",
        "colab_type": "code",
        "colab": {}
      },
      "source": [
        "# This is a comment"
      ],
      "execution_count": 0,
      "outputs": []
    },
    {
      "cell_type": "code",
      "metadata": {
        "id": "kTmQb28QXbOl",
        "colab_type": "code",
        "colab": {}
      },
      "source": [
        "\"\"\"\n",
        "This\n",
        "is a\n",
        "multiline comment\n",
        "\"\"\""
      ],
      "execution_count": 0,
      "outputs": []
    },
    {
      "cell_type": "code",
      "metadata": {
        "id": "zbkW16dZXbOs",
        "colab_type": "code",
        "colab": {}
      },
      "source": [
        "# Print function\n",
        "print(\"Hello\")\n",
        "print(\"World!\")"
      ],
      "execution_count": 0,
      "outputs": []
    },
    {
      "cell_type": "code",
      "metadata": {
        "id": "GvlVs8MJXbOz",
        "colab_type": "code",
        "colab": {}
      },
      "source": [
        "# `end` argument in print function\n",
        "print(\"Hello \",end='') # end='\\n' by default\n",
        "print(\"World!\")"
      ],
      "execution_count": 0,
      "outputs": []
    },
    {
      "cell_type": "code",
      "metadata": {
        "id": "g-X0uRlkXbO6",
        "colab_type": "code",
        "colab": {}
      },
      "source": [
        "# Take input from user\n",
        "inp = input('Enter some value: ')\n",
        "print('Input:',inp)\n",
        "print('Type: ',type(inp))"
      ],
      "execution_count": 0,
      "outputs": []
    },
    {
      "cell_type": "markdown",
      "metadata": {
        "id": "i6eOEVyrXbO_",
        "colab_type": "text"
      },
      "source": [
        "#### If-else"
      ]
    },
    {
      "cell_type": "code",
      "metadata": {
        "id": "E6Puqd8PXbPG",
        "colab_type": "code",
        "colab": {}
      },
      "source": [
        "if 5<4:\n",
        "    print('yes1')\n",
        "elif 5<6:\n",
        "    print('yes2')\n",
        "else:\n",
        "    print('no')"
      ],
      "execution_count": 0,
      "outputs": []
    },
    {
      "cell_type": "markdown",
      "metadata": {
        "id": "Lk0Ntp7HXbPO",
        "colab_type": "text"
      },
      "source": [
        "#### Loops"
      ]
    },
    {
      "cell_type": "code",
      "metadata": {
        "id": "4rIC3I3YXbPW",
        "colab_type": "code",
        "colab": {}
      },
      "source": [
        "for i in range(5):\n",
        "    if i<3:\n",
        "        continue\n",
        "    else:\n",
        "        print(i)\n",
        "        break"
      ],
      "execution_count": 0,
      "outputs": []
    },
    {
      "cell_type": "code",
      "metadata": {
        "id": "WJi7z90RXbPd",
        "colab_type": "code",
        "colab": {}
      },
      "source": [
        "# while loop\n",
        "i=0\n",
        "while i<5:\n",
        "    print(i)\n",
        "    i += 1"
      ],
      "execution_count": 0,
      "outputs": []
    },
    {
      "cell_type": "markdown",
      "metadata": {
        "id": "70sHd7lEXbPh",
        "colab_type": "text"
      },
      "source": [
        "#### Lists, Indexing, enumerate"
      ]
    },
    {
      "cell_type": "code",
      "metadata": {
        "id": "itp_DuVZXbPj",
        "colab_type": "code",
        "colab": {}
      },
      "source": [
        "l1 = [1,'hi',2.0]\n",
        "print(l1)"
      ],
      "execution_count": 0,
      "outputs": []
    },
    {
      "cell_type": "code",
      "metadata": {
        "id": "zVDygXhSXbPn",
        "colab_type": "code",
        "colab": {}
      },
      "source": [
        "l2 = list()\n",
        "l2.append(1)\n",
        "l2.append('hi')\n",
        "l2.append(2.0)\n",
        "print(l2)"
      ],
      "execution_count": 0,
      "outputs": []
    },
    {
      "cell_type": "code",
      "metadata": {
        "id": "4KR15nE8XbPs",
        "colab_type": "code",
        "colab": {}
      },
      "source": [
        "l2[0]"
      ],
      "execution_count": 0,
      "outputs": []
    },
    {
      "cell_type": "code",
      "metadata": {
        "id": "MCEBUeIlXbPw",
        "colab_type": "code",
        "colab": {}
      },
      "source": [
        "l2[0] = 15"
      ],
      "execution_count": 0,
      "outputs": []
    },
    {
      "cell_type": "code",
      "metadata": {
        "id": "uJldy5NQXbP0",
        "colab_type": "code",
        "colab": {}
      },
      "source": [
        "l2"
      ],
      "execution_count": 0,
      "outputs": []
    },
    {
      "cell_type": "code",
      "metadata": {
        "id": "4RiNCkvuXbP5",
        "colab_type": "code",
        "colab": {}
      },
      "source": [
        "l2[0:]"
      ],
      "execution_count": 0,
      "outputs": []
    },
    {
      "cell_type": "code",
      "metadata": {
        "id": "QiH-FUgjXbP9",
        "colab_type": "code",
        "colab": {}
      },
      "source": [
        "l2[:2]"
      ],
      "execution_count": 0,
      "outputs": []
    },
    {
      "cell_type": "code",
      "metadata": {
        "id": "vX0EWXB5XbQC",
        "colab_type": "code",
        "colab": {}
      },
      "source": [
        "l2[-1]"
      ],
      "execution_count": 0,
      "outputs": []
    },
    {
      "cell_type": "code",
      "metadata": {
        "id": "OslOhd3aXbQG",
        "colab_type": "code",
        "colab": {}
      },
      "source": [
        "len(l2)"
      ],
      "execution_count": 0,
      "outputs": []
    },
    {
      "cell_type": "code",
      "metadata": {
        "id": "g97S-LCzXbQK",
        "colab_type": "code",
        "colab": {}
      },
      "source": [
        "l1+l2"
      ],
      "execution_count": 0,
      "outputs": []
    },
    {
      "cell_type": "code",
      "metadata": {
        "id": "5j7pBWG9XbQQ",
        "colab_type": "code",
        "colab": {}
      },
      "source": [
        "# Iterate list\n",
        "for i in l1:\n",
        "    print(i)"
      ],
      "execution_count": 0,
      "outputs": []
    },
    {
      "cell_type": "code",
      "metadata": {
        "id": "uQCuWGXqXbQT",
        "colab_type": "code",
        "colab": {}
      },
      "source": [
        "# Iterate list index\n",
        "for i in range(len(l1)):\n",
        "    print(i)"
      ],
      "execution_count": 0,
      "outputs": []
    },
    {
      "cell_type": "code",
      "metadata": {
        "id": "eOW8ocCXXbQZ",
        "colab_type": "code",
        "colab": {}
      },
      "source": [
        "# enumerate\n",
        "for key,value in enumerate(l1):\n",
        "    print(key,value)"
      ],
      "execution_count": 0,
      "outputs": []
    },
    {
      "cell_type": "markdown",
      "metadata": {
        "id": "ij9USErtXbQb",
        "colab_type": "text"
      },
      "source": [
        "#### Tuples\n",
        "- Similar to lists but not immutable"
      ]
    },
    {
      "cell_type": "code",
      "metadata": {
        "id": "9HXk0TpjXbQc",
        "colab_type": "code",
        "colab": {}
      },
      "source": [
        "t1 = (1,2,'hi')"
      ],
      "execution_count": 0,
      "outputs": []
    },
    {
      "cell_type": "code",
      "metadata": {
        "id": "cii36Dg0XbQi",
        "colab_type": "code",
        "colab": {}
      },
      "source": [
        "t1[0]"
      ],
      "execution_count": 0,
      "outputs": []
    },
    {
      "cell_type": "code",
      "metadata": {
        "id": "1wEJUoSQXbQl",
        "colab_type": "code",
        "colab": {}
      },
      "source": [
        "t1[0:]"
      ],
      "execution_count": 0,
      "outputs": []
    },
    {
      "cell_type": "code",
      "metadata": {
        "id": "Tieer4QmXbQn",
        "colab_type": "code",
        "colab": {}
      },
      "source": [
        "t1[-1]"
      ],
      "execution_count": 0,
      "outputs": []
    },
    {
      "cell_type": "code",
      "metadata": {
        "id": "IEmyUMZuXbQx",
        "colab_type": "code",
        "colab": {}
      },
      "source": [
        "try:\n",
        "  t1[0]= 15 # ERROR\n",
        "except:\n",
        "  print(\"Error occured\")"
      ],
      "execution_count": 0,
      "outputs": []
    },
    {
      "cell_type": "code",
      "metadata": {
        "id": "9ZHfVqp-XbQ0",
        "colab_type": "code",
        "colab": {}
      },
      "source": [
        "# iterating tuple\n",
        "for i in t1:\n",
        "    print(i)"
      ],
      "execution_count": 0,
      "outputs": []
    },
    {
      "cell_type": "code",
      "metadata": {
        "id": "17ElxCmnXbQ3",
        "colab_type": "code",
        "colab": {}
      },
      "source": [
        "# enumerate\n",
        "for key,value in enumerate(t1):\n",
        "    print(key,value)"
      ],
      "execution_count": 0,
      "outputs": []
    },
    {
      "cell_type": "markdown",
      "metadata": {
        "id": "37p0vl5GXbQ7",
        "colab_type": "text"
      },
      "source": [
        "#### Dictionaries"
      ]
    },
    {
      "cell_type": "code",
      "metadata": {
        "id": "HD675qd6XbQ8",
        "colab_type": "code",
        "colab": {}
      },
      "source": [
        "d1 = {\n",
        "    'a':1,\n",
        "    'b':2\n",
        "}"
      ],
      "execution_count": 0,
      "outputs": []
    },
    {
      "cell_type": "code",
      "metadata": {
        "id": "5aMUMyDMXbQ-",
        "colab_type": "code",
        "colab": {}
      },
      "source": [
        "d1"
      ],
      "execution_count": 0,
      "outputs": []
    },
    {
      "cell_type": "code",
      "metadata": {
        "id": "oYUYtS7oXbRB",
        "colab_type": "code",
        "colab": {}
      },
      "source": [
        "d1['a']"
      ],
      "execution_count": 0,
      "outputs": []
    },
    {
      "cell_type": "code",
      "metadata": {
        "id": "DV1Ja0xlXbRD",
        "colab_type": "code",
        "colab": {}
      },
      "source": [
        "d1['a'] = 3"
      ],
      "execution_count": 0,
      "outputs": []
    },
    {
      "cell_type": "code",
      "metadata": {
        "id": "7zuGoZR5XbRG",
        "colab_type": "code",
        "colab": {}
      },
      "source": [
        "d1"
      ],
      "execution_count": 0,
      "outputs": []
    },
    {
      "cell_type": "code",
      "metadata": {
        "id": "Jv82KB_lXbRH",
        "colab_type": "code",
        "colab": {}
      },
      "source": [
        "d2 = {}\n",
        "d2['a'] = 1\n",
        "d2['b'] = 2"
      ],
      "execution_count": 0,
      "outputs": []
    },
    {
      "cell_type": "code",
      "metadata": {
        "id": "nxNiNuv5XbRK",
        "colab_type": "code",
        "colab": {}
      },
      "source": [
        "d2"
      ],
      "execution_count": 0,
      "outputs": []
    },
    {
      "cell_type": "code",
      "metadata": {
        "id": "Ei33EClCXbRM",
        "colab_type": "code",
        "colab": {}
      },
      "source": [
        "d3 = dict()\n",
        "d3['a'] = 1\n",
        "d3['b'] = 2"
      ],
      "execution_count": 0,
      "outputs": []
    },
    {
      "cell_type": "code",
      "metadata": {
        "id": "MPT-WubXXbRP",
        "colab_type": "code",
        "colab": {}
      },
      "source": [
        "d3"
      ],
      "execution_count": 0,
      "outputs": []
    },
    {
      "cell_type": "code",
      "metadata": {
        "id": "vxHqntgeXbRU",
        "colab_type": "code",
        "colab": {}
      },
      "source": [
        "d1.keys()"
      ],
      "execution_count": 0,
      "outputs": []
    },
    {
      "cell_type": "code",
      "metadata": {
        "id": "ETWKrfzmXbRY",
        "colab_type": "code",
        "colab": {}
      },
      "source": [
        "list(d1.keys())"
      ],
      "execution_count": 0,
      "outputs": []
    },
    {
      "cell_type": "code",
      "metadata": {
        "id": "rTzIHo1-XbRd",
        "colab_type": "code",
        "colab": {}
      },
      "source": [
        "d1.values()"
      ],
      "execution_count": 0,
      "outputs": []
    },
    {
      "cell_type": "code",
      "metadata": {
        "id": "ebDmi1W_XbRh",
        "colab_type": "code",
        "colab": {}
      },
      "source": [
        "list(d1.values())"
      ],
      "execution_count": 0,
      "outputs": []
    },
    {
      "cell_type": "code",
      "metadata": {
        "id": "_paUio07XbRj",
        "colab_type": "code",
        "colab": {}
      },
      "source": [
        "d1.items()"
      ],
      "execution_count": 0,
      "outputs": []
    },
    {
      "cell_type": "code",
      "metadata": {
        "id": "u2hSQL53XbRl",
        "colab_type": "code",
        "colab": {}
      },
      "source": [
        "list(d1.items())"
      ],
      "execution_count": 0,
      "outputs": []
    },
    {
      "cell_type": "code",
      "metadata": {
        "id": "VBDrrrgZXbRo",
        "colab_type": "code",
        "colab": {}
      },
      "source": [
        "# Iterate dictionary\n",
        "for key,value in d1.items():\n",
        "    print(key, value)"
      ],
      "execution_count": 0,
      "outputs": []
    },
    {
      "cell_type": "code",
      "metadata": {
        "id": "NIFZ0-c1XbRr",
        "colab_type": "code",
        "colab": {}
      },
      "source": [
        "if 'a' in d1:\n",
        "    print('yes')"
      ],
      "execution_count": 0,
      "outputs": []
    },
    {
      "cell_type": "code",
      "metadata": {
        "id": "ILE7ihWvXbRv",
        "colab_type": "code",
        "colab": {}
      },
      "source": [
        "len(d1)"
      ],
      "execution_count": 0,
      "outputs": []
    },
    {
      "cell_type": "markdown",
      "metadata": {
        "id": "2jDb_fyrXbRy",
        "colab_type": "text"
      },
      "source": [
        "#### Functions"
      ]
    },
    {
      "cell_type": "code",
      "metadata": {
        "id": "7vnY5sNQXbRy",
        "colab_type": "code",
        "colab": {}
      },
      "source": [
        "def func_name(arg1, arg2):\n",
        "    print(arg1,arg2)"
      ],
      "execution_count": 0,
      "outputs": []
    },
    {
      "cell_type": "code",
      "metadata": {
        "id": "ra8xPdv6XbR0",
        "colab_type": "code",
        "colab": {}
      },
      "source": [
        "func_name(1,'hi')"
      ],
      "execution_count": 0,
      "outputs": []
    },
    {
      "cell_type": "code",
      "metadata": {
        "id": "w2YMnLBHXbR2",
        "colab_type": "code",
        "colab": {}
      },
      "source": [
        "func_name([1,2,3,4],'hi')"
      ],
      "execution_count": 0,
      "outputs": []
    },
    {
      "cell_type": "code",
      "metadata": {
        "id": "tPF9dT9BXbR5",
        "colab_type": "code",
        "colab": {}
      },
      "source": [
        "# Variable arguments\n",
        "def func_name(*args):\n",
        "    for arg in args:\n",
        "        print(arg)"
      ],
      "execution_count": 0,
      "outputs": []
    },
    {
      "cell_type": "code",
      "metadata": {
        "id": "-z7lCEQQXbR7",
        "colab_type": "code",
        "colab": {}
      },
      "source": [
        "func_name(1,6.0)"
      ],
      "execution_count": 0,
      "outputs": []
    },
    {
      "cell_type": "code",
      "metadata": {
        "id": "pGO6RXHdXbR9",
        "colab_type": "code",
        "colab": {}
      },
      "source": [
        "func_name(1,2,'hi')"
      ],
      "execution_count": 0,
      "outputs": []
    },
    {
      "cell_type": "code",
      "metadata": {
        "id": "DWLMtAksXbR_",
        "colab_type": "code",
        "colab": {}
      },
      "source": [
        "# keyword arguments\n",
        "def func_name(**kwargs):\n",
        "    for key,value in kwargs.items():\n",
        "        print(key,value)"
      ],
      "execution_count": 0,
      "outputs": []
    },
    {
      "cell_type": "code",
      "metadata": {
        "id": "z7SCtCEnXbSG",
        "colab_type": "code",
        "colab": {}
      },
      "source": [
        "func_name(a=1,b=6.0)"
      ],
      "execution_count": 0,
      "outputs": []
    },
    {
      "cell_type": "code",
      "metadata": {
        "id": "fi81R73_XbSJ",
        "colab_type": "code",
        "colab": {}
      },
      "source": [
        "# Variable arguments\n",
        "def func_name(*args,**kwargs):\n",
        "    for arg in args:\n",
        "        print(arg)\n",
        "    for key,value in kwargs.items():\n",
        "        print(key,value)"
      ],
      "execution_count": 0,
      "outputs": []
    },
    {
      "cell_type": "code",
      "metadata": {
        "id": "ferlRWQmXbSM",
        "colab_type": "code",
        "colab": {}
      },
      "source": [
        "func_name('hi','there',a=1,b=6.0)"
      ],
      "execution_count": 0,
      "outputs": []
    },
    {
      "cell_type": "markdown",
      "metadata": {
        "id": "Y0SDihBTXbSP",
        "colab_type": "text"
      },
      "source": [
        "#### String formatting"
      ]
    },
    {
      "cell_type": "code",
      "metadata": {
        "id": "F7ciFm0-XbSQ",
        "colab_type": "code",
        "colab": {}
      },
      "source": [
        "# String formatting\n",
        "print('Hello {} from {}'.format(1,2))"
      ],
      "execution_count": 0,
      "outputs": []
    },
    {
      "cell_type": "code",
      "metadata": {
        "id": "WoNlS6DeXbST",
        "colab_type": "code",
        "colab": {}
      },
      "source": [
        "# String formatting\n",
        "def dummy():\n",
        "    return 4.0\n",
        "print('My lucky number is {}'.format(dummy()))"
      ],
      "execution_count": 0,
      "outputs": []
    },
    {
      "cell_type": "code",
      "metadata": {
        "id": "uDJkD2IGXbSV",
        "colab_type": "code",
        "colab": {}
      },
      "source": [
        "x = 'My lucky number is {}'.format(dummy())\n",
        "print(x)"
      ],
      "execution_count": 0,
      "outputs": []
    },
    {
      "cell_type": "markdown",
      "metadata": {
        "id": "ceq7YAJkXbSX",
        "colab_type": "text"
      },
      "source": [
        "#### List comprehension"
      ]
    },
    {
      "cell_type": "code",
      "metadata": {
        "id": "TXrEVUOKXbSY",
        "colab_type": "code",
        "colab": {}
      },
      "source": [
        "[x ** 2 for x in range(1, 11) if x % 2 == 1]"
      ],
      "execution_count": 0,
      "outputs": []
    },
    {
      "cell_type": "markdown",
      "metadata": {
        "id": "Vi3Kk5x2XbSi",
        "colab_type": "text"
      },
      "source": [
        "#### map(function, iterable)\n",
        "- returns a list of the results after applying the given function to each item of a given iterable (list, tuple etc.)"
      ]
    },
    {
      "cell_type": "code",
      "metadata": {
        "id": "q7U9MC1wXbSj",
        "colab_type": "code",
        "colab": {}
      },
      "source": [
        "def check(x):\n",
        "    if type(x) is str:\n",
        "        return x\n",
        "    else:\n",
        "        return '-'\n",
        "a = [1,2,4,'hi',4.5]\n",
        "res = map(check,a)"
      ],
      "execution_count": 0,
      "outputs": []
    },
    {
      "cell_type": "code",
      "metadata": {
        "id": "0GebyxFsXbSn",
        "colab_type": "code",
        "colab": {}
      },
      "source": [
        "list(res)"
      ],
      "execution_count": 0,
      "outputs": []
    },
    {
      "cell_type": "code",
      "metadata": {
        "id": "M-AXLK6HXbSo",
        "colab_type": "code",
        "colab": {}
      },
      "source": [
        "for res in map(check,a):\n",
        "    print(res)"
      ],
      "execution_count": 0,
      "outputs": []
    },
    {
      "cell_type": "code",
      "metadata": {
        "id": "DkUAHaohXbSq",
        "colab_type": "code",
        "colab": {}
      },
      "source": [
        "[x for x in map(check,a)]"
      ],
      "execution_count": 0,
      "outputs": []
    },
    {
      "cell_type": "code",
      "metadata": {
        "id": "LPch2dfiXbSu",
        "colab_type": "code",
        "colab": {}
      },
      "source": [
        "[x for x in map(check,a) if x!='-']"
      ],
      "execution_count": 0,
      "outputs": []
    },
    {
      "cell_type": "markdown",
      "metadata": {
        "id": "eMlgGNIJXbSw",
        "colab_type": "text"
      },
      "source": [
        "#### zip"
      ]
    },
    {
      "cell_type": "code",
      "metadata": {
        "id": "2_lCjQIYXbSx",
        "colab_type": "code",
        "colab": {}
      },
      "source": [
        "a = [1,2,3]\n",
        "b = ['Me','You','Someone else']\n",
        "c = [1.0,2.0,3.0]\n",
        "res = zip(a, b, c)"
      ],
      "execution_count": 0,
      "outputs": []
    },
    {
      "cell_type": "code",
      "metadata": {
        "id": "896S0V5gXbSz",
        "colab_type": "code",
        "colab": {}
      },
      "source": [
        "list(res)"
      ],
      "execution_count": 0,
      "outputs": []
    },
    {
      "cell_type": "code",
      "metadata": {
        "id": "7unJXZfxXbS0",
        "colab_type": "code",
        "colab": {}
      },
      "source": [
        "for res in zip(a, b, c):\n",
        "    print(res)"
      ],
      "execution_count": 0,
      "outputs": []
    },
    {
      "cell_type": "code",
      "metadata": {
        "id": "-ikPA7q6XbS2",
        "colab_type": "code",
        "colab": {}
      },
      "source": [
        "[x for x in zip(a, b, c)]"
      ],
      "execution_count": 0,
      "outputs": []
    },
    {
      "cell_type": "code",
      "metadata": {
        "id": "u02nYfCBXbS4",
        "colab_type": "code",
        "colab": {}
      },
      "source": [
        "[x for x in zip(a, b, c) if x[0]<3]"
      ],
      "execution_count": 0,
      "outputs": []
    },
    {
      "cell_type": "markdown",
      "metadata": {
        "id": "fKDxg7nfXbS9",
        "colab_type": "text"
      },
      "source": [
        "#### Importing Modules\n",
        "\n",
        "Modules are like libraries in C++. You can access the functions using the module names.\n",
        "\n",
        "See [docs here](https://docs.python.org/3/tutorial/modules.html)"
      ]
    },
    {
      "cell_type": "code",
      "metadata": {
        "id": "43bwtvKpXbS9",
        "colab_type": "code",
        "colab": {}
      },
      "source": [
        "# import modules\n",
        "import numpy"
      ],
      "execution_count": 0,
      "outputs": []
    },
    {
      "cell_type": "code",
      "metadata": {
        "id": "8fjbnaE7XbTB",
        "colab_type": "code",
        "colab": {}
      },
      "source": [
        "numpy.__version__"
      ],
      "execution_count": 0,
      "outputs": []
    },
    {
      "cell_type": "code",
      "metadata": {
        "id": "YBK27hDqXbTC",
        "colab_type": "code",
        "colab": {}
      },
      "source": [
        "# change alias while importing \n",
        "\n",
        "import numpy as np"
      ],
      "execution_count": 0,
      "outputs": []
    },
    {
      "cell_type": "code",
      "metadata": {
        "id": "GAmB-FMjXbTF",
        "colab_type": "code",
        "colab": {}
      },
      "source": [
        "np.__version__"
      ],
      "execution_count": 0,
      "outputs": []
    },
    {
      "cell_type": "code",
      "metadata": {
        "id": "rHVCjAeIXbTH",
        "colab_type": "code",
        "colab": {}
      },
      "source": [
        "numpy==np"
      ],
      "execution_count": 0,
      "outputs": []
    },
    {
      "cell_type": "code",
      "metadata": {
        "id": "dLf9H0IGXbTJ",
        "colab_type": "code",
        "colab": {}
      },
      "source": [
        "from numpy import array"
      ],
      "execution_count": 0,
      "outputs": []
    },
    {
      "cell_type": "code",
      "metadata": {
        "id": "RdULjc9lXbTK",
        "colab_type": "code",
        "colab": {}
      },
      "source": [
        "array([1,2,3,4])"
      ],
      "execution_count": 0,
      "outputs": []
    },
    {
      "cell_type": "markdown",
      "metadata": {
        "id": "1SupGIrlAIY7",
        "colab_type": "text"
      },
      "source": [
        "## Numpy"
      ]
    },
    {
      "cell_type": "markdown",
      "metadata": {
        "id": "mJKBP9D6O5cw",
        "colab_type": "text"
      },
      "source": [
        "The numpy package (module) is used in almost all numerical computation using Python. It is a package that provide high-performance vector, matrix and higher-dimensional data structures for Python. It is implemented in C and Fortran so when calculations are vectorized (formulated with vectors and matrices), performance is very good.\n",
        "\n",
        "To use numpy you need to import the module, using for example:\n"
      ]
    },
    {
      "cell_type": "code",
      "metadata": {
        "id": "9Lpd-JluO7rk",
        "colab_type": "code",
        "colab": {}
      },
      "source": [
        "import numpy as np"
      ],
      "execution_count": 0,
      "outputs": []
    },
    {
      "cell_type": "code",
      "metadata": {
        "id": "sjrfP4U3PEmg",
        "colab_type": "code",
        "colab": {}
      },
      "source": [
        "test = np.array([1,2,3,4,5])\n",
        "test2 = np.array([[1,2],[3,4]])\n",
        "\n",
        "print(type(test), type(test2), test.shape, test2.shape)"
      ],
      "execution_count": 0,
      "outputs": []
    },
    {
      "cell_type": "code",
      "metadata": {
        "id": "8zWkF8-vToI9",
        "colab_type": "code",
        "colab": {}
      },
      "source": [
        "print(test*2)"
      ],
      "execution_count": 0,
      "outputs": []
    },
    {
      "cell_type": "code",
      "metadata": {
        "id": "RjAUczZnTrWO",
        "colab_type": "code",
        "colab": {}
      },
      "source": [
        "print(test + 4*test)"
      ],
      "execution_count": 0,
      "outputs": []
    },
    {
      "cell_type": "code",
      "metadata": {
        "id": "Uv7XnWdwPazM",
        "colab_type": "code",
        "colab": {}
      },
      "source": [
        "# dtype is the datatype\n",
        "\n",
        "test3 = np.array([1,2,3,4,5], dtype=complex)\n",
        "\n",
        "print(\"test3 =\", test3)\n",
        "\n",
        "print('test2 dtype =', test2.dtype)\n",
        "\n",
        "test2 = test2.astype(np.uint8)\n",
        "\n",
        "print('test2 dtype =', test2.dtype)"
      ],
      "execution_count": 0,
      "outputs": []
    },
    {
      "cell_type": "code",
      "metadata": {
        "id": "hoNWvMRPRBPp",
        "colab_type": "code",
        "colab": {}
      },
      "source": [
        "# indexed as row:col:step\n",
        "\n",
        "print('test3', test3)\n",
        "print('test3[::2]', test3[::2])\n",
        "print('test3[1::2]', test3[1::2])"
      ],
      "execution_count": 0,
      "outputs": []
    },
    {
      "cell_type": "code",
      "metadata": {
        "id": "R-3E5w2tQSPv",
        "colab_type": "code",
        "colab": {}
      },
      "source": [
        "print('test2[1,1]', test2[1,1])\n",
        "print('test2[1,:]', test2[1,:])\n",
        "print('test2[:,1]', test2[:,1])"
      ],
      "execution_count": 0,
      "outputs": []
    },
    {
      "cell_type": "code",
      "metadata": {
        "id": "surdeeqaRoh2",
        "colab_type": "code",
        "colab": {}
      },
      "source": [
        "row_indices = [1, 2, 3]\n",
        "print(test3[row_indices])"
      ],
      "execution_count": 0,
      "outputs": []
    },
    {
      "cell_type": "code",
      "metadata": {
        "id": "fxXAVcr-SRXW",
        "colab_type": "code",
        "colab": {}
      },
      "source": [
        "row_mask = np.array([1,0,1,0,0], dtype=bool)\n",
        "print(test3[row_mask])"
      ],
      "execution_count": 0,
      "outputs": []
    },
    {
      "cell_type": "code",
      "metadata": {
        "id": "xRCQ9mqXSiR9",
        "colab_type": "code",
        "colab": {}
      },
      "source": [
        "A = np.array([[n+m*10 for n in range(5)] for m in range(5)])\n",
        "\n",
        "print(A)"
      ],
      "execution_count": 0,
      "outputs": []
    },
    {
      "cell_type": "code",
      "metadata": {
        "id": "WeWXfV6xSv_J",
        "colab_type": "code",
        "colab": {}
      },
      "source": [
        "print('Dot \\n', np.dot(A,A), '\\n')\n",
        "\n",
        "# Numpy arrays are broadcasted to fit the shape \n",
        "# of the other arrays in the operation\n",
        "print('Example of broadcasting (1-A): \\n', 1-A)"
      ],
      "execution_count": 0,
      "outputs": []
    },
    {
      "cell_type": "code",
      "metadata": {
        "id": "kFSRXUjjTLwh",
        "colab_type": "code",
        "colab": {}
      },
      "source": [
        "print(np.mean(A))"
      ],
      "execution_count": 0,
      "outputs": []
    },
    {
      "cell_type": "code",
      "metadata": {
        "id": "f51C3ylOTOD4",
        "colab_type": "code",
        "colab": {}
      },
      "source": [
        "# in an array of shape (a,b,c,..), a is axis 0, b is axis 1 etc.\n",
        "print(np.mean(A, axis=1))"
      ],
      "execution_count": 0,
      "outputs": []
    },
    {
      "cell_type": "code",
      "metadata": {
        "id": "7nQHzMjBTSb1",
        "colab_type": "code",
        "colab": {}
      },
      "source": [
        "print(np.sum(A, axis=0))"
      ],
      "execution_count": 0,
      "outputs": []
    },
    {
      "cell_type": "markdown",
      "metadata": {
        "id": "EHXiIOSrALWw",
        "colab_type": "text"
      },
      "source": [
        "## Matplotlib"
      ]
    },
    {
      "cell_type": "markdown",
      "metadata": {
        "id": "HkjVBmwYUEEM",
        "colab_type": "text"
      },
      "source": [
        "Plotting library, see [docs](https://matplotlib.org/3.1.1/contents.html)."
      ]
    },
    {
      "cell_type": "code",
      "metadata": {
        "id": "hGecpK7QAK4x",
        "colab_type": "code",
        "colab": {}
      },
      "source": [
        "import matplotlib.pyplot as plt"
      ],
      "execution_count": 0,
      "outputs": []
    },
    {
      "cell_type": "code",
      "metadata": {
        "id": "l1TtGn2LAH2v",
        "colab_type": "code",
        "colab": {}
      },
      "source": [
        "x = np.linspace(0, 5, 10)\n",
        "y = x ** 2"
      ],
      "execution_count": 0,
      "outputs": []
    },
    {
      "cell_type": "code",
      "metadata": {
        "id": "WE3K2YLm1vH0",
        "colab_type": "code",
        "colab": {}
      },
      "source": [
        "# figure()\n",
        "plt.plot(x, y, 'r', label='label')\n",
        "plt.xlabel('x')\n",
        "plt.ylabel('y')\n",
        "plt.legend()\n",
        "plt.title('title')\n",
        "plt.show()"
      ],
      "execution_count": 0,
      "outputs": []
    },
    {
      "cell_type": "code",
      "metadata": {
        "id": "qWd1dQT_UWNv",
        "colab_type": "code",
        "colab": {}
      },
      "source": [
        "# random examples\n",
        "\n",
        "xx = np.linspace(-0.75, 1., 100)\n",
        "n = np.array([0,1,2,3,4,5])\n",
        "\n",
        "fig, axes = plt.subplots(1, 4, figsize=(12,3))\n",
        "\n",
        "axes[0].scatter(xx, xx + 0.25*np.random.randn(len(xx)))\n",
        "axes[0].set_title(\"scatter\")\n",
        "\n",
        "axes[1].step(n, n**2, lw=2)\n",
        "axes[1].set_title(\"step\")\n",
        "\n",
        "axes[2].bar(n, n**2, align=\"center\", width=0.5, alpha=0.5)\n",
        "axes[2].set_title(\"bar\")\n",
        "\n",
        "axes[3].fill_between(x, x**2, x**3, color=\"green\", alpha=0.5);\n",
        "axes[3].set_title(\"fill_between\");"
      ],
      "execution_count": 0,
      "outputs": []
    },
    {
      "cell_type": "markdown",
      "metadata": {
        "id": "U65z_gDCWWs5",
        "colab_type": "text"
      },
      "source": [
        "## Pandas\n",
        "\n",
        "Library used to manipulate dataframes. A dataframe is a structured data format used to represent tabular data (or anyother data that can be represented in tabular form).\n",
        "\n",
        "As always, Google or check the [docs](https://pandas.pydata.org/pandas-docs/stable/reference/index.html) in case of queries.\n",
        "\n",
        "Check out these excellent [exercises](https://github.com/guipsamora/pandas_exercises)."
      ]
    },
    {
      "cell_type": "code",
      "metadata": {
        "id": "hsz1idr9WVaV",
        "colab_type": "code",
        "colab": {}
      },
      "source": [
        "import pandas as pd\n",
        "\n",
        "URL = 'https://raw.githubusercontent.com/u9bte/datasets/master/heart.csv'\n",
        "\n",
        "df_raw = pd.read_csv(URL)\n",
        "\n",
        "#display top 'x=5' rows\n",
        "\n",
        "df_raw.head(5)"
      ],
      "execution_count": 0,
      "outputs": []
    },
    {
      "cell_type": "code",
      "metadata": {
        "id": "r__9OGkRXL8G",
        "colab_type": "code",
        "colab": {}
      },
      "source": [
        "df_raw.tail(4)"
      ],
      "execution_count": 0,
      "outputs": []
    },
    {
      "cell_type": "code",
      "metadata": {
        "id": "6jRryxHsYvb1",
        "colab_type": "code",
        "colab": {}
      },
      "source": [
        "print(df_raw.shape)"
      ],
      "execution_count": 0,
      "outputs": []
    },
    {
      "cell_type": "code",
      "metadata": {
        "id": "fnHYTVFaY18d",
        "colab_type": "code",
        "colab": {}
      },
      "source": [
        "# dtype is the datatype\n",
        "\n",
        "print(df_raw.dtypes)"
      ],
      "execution_count": 0,
      "outputs": []
    },
    {
      "cell_type": "code",
      "metadata": {
        "id": "Oiw3MELZY3K0",
        "colab_type": "code",
        "colab": {}
      },
      "source": [
        "print(df_raw.columns)"
      ],
      "execution_count": 0,
      "outputs": []
    },
    {
      "cell_type": "code",
      "metadata": {
        "id": "EraosGDOY4xU",
        "colab_type": "code",
        "colab": {}
      },
      "source": [
        "print(df_raw.describe())"
      ],
      "execution_count": 0,
      "outputs": []
    },
    {
      "cell_type": "code",
      "metadata": {
        "id": "gE1Nqm4N8RlN",
        "colab_type": "code",
        "colab": {}
      },
      "source": [
        "# use display() (a jupyter specific function) if you want to pretty print the output\n",
        "\n",
        "display(df_raw.describe())"
      ],
      "execution_count": 0,
      "outputs": []
    },
    {
      "cell_type": "code",
      "metadata": {
        "id": "hsjDpsG8ZJpj",
        "colab_type": "code",
        "colab": {}
      },
      "source": [
        "# grouping like in SQL\n",
        "\n",
        "grouped = df_raw.groupby('age')\n",
        "grouped_sum = grouped.sum()"
      ],
      "execution_count": 0,
      "outputs": []
    },
    {
      "cell_type": "code",
      "metadata": {
        "id": "4jhN52WEZlG_",
        "colab_type": "code",
        "colab": {}
      },
      "source": [
        "grouped_sum.head()"
      ],
      "execution_count": 0,
      "outputs": []
    },
    {
      "cell_type": "code",
      "metadata": {
        "id": "WlFl9V-MZyO-",
        "colab_type": "code",
        "colab": {}
      },
      "source": [
        "# not recommended\n",
        "grouped_sum.thalach.mean()"
      ],
      "execution_count": 0,
      "outputs": []
    },
    {
      "cell_type": "code",
      "metadata": {
        "id": "mGV7bY0uaG0Q",
        "colab_type": "code",
        "colab": {}
      },
      "source": [
        "# recommended\n",
        "grouped_sum['thalach'].mean()"
      ],
      "execution_count": 0,
      "outputs": []
    },
    {
      "cell_type": "code",
      "metadata": {
        "id": "utyz0G-GaQBS",
        "colab_type": "code",
        "colab": {}
      },
      "source": [
        "# Functions can be attached to output of another function\n",
        "\n",
        "df_raw.groupby('age').sum()['thalach'].mean()"
      ],
      "execution_count": 0,
      "outputs": []
    },
    {
      "cell_type": "code",
      "metadata": {
        "id": "OFAsVUIfaYQx",
        "colab_type": "code",
        "colab": {}
      },
      "source": [
        "# .agg() - Aggregate using one or more operations over the specified axis.\n",
        "\n",
        "df_raw.groupby('age')['thalach'].agg(['mean', 'min', 'max'], axis=0).head(4)"
      ],
      "execution_count": 0,
      "outputs": []
    },
    {
      "cell_type": "code",
      "metadata": {
        "id": "i0dutdYbakAq",
        "colab_type": "code",
        "colab": {}
      },
      "source": [
        "# Access elements in dataframe by index \n",
        "\n",
        "df_raw.iloc[:,0:10].head()"
      ],
      "execution_count": 0,
      "outputs": []
    },
    {
      "cell_type": "markdown",
      "metadata": {
        "id": "ZkNcEj3qHFZ0",
        "colab_type": "text"
      },
      "source": [
        "[Difference btw iloc, loc and ix](https://stackoverflow.com/questions/31593201/how-are-iloc-ix-and-loc-different)"
      ]
    },
    {
      "cell_type": "code",
      "metadata": {
        "id": "9UnXrVhb9bWt",
        "colab_type": "code",
        "colab": {}
      },
      "source": [
        "# Apply a function to columns or rows\n",
        "\n",
        "df_raw.apply(np.sum, axis=0).head()"
      ],
      "execution_count": 0,
      "outputs": []
    },
    {
      "cell_type": "code",
      "metadata": {
        "id": "HMyeKx31-avS",
        "colab_type": "code",
        "colab": {}
      },
      "source": [
        "# Using lambda functions\n",
        "\n",
        "display(df_raw.apply(lambda x: x*2, axis=0).head())\n",
        "\n",
        "display(df_raw.head())"
      ],
      "execution_count": 0,
      "outputs": []
    },
    {
      "cell_type": "code",
      "metadata": {
        "id": "7y7rRd_C-sXf",
        "colab_type": "code",
        "colab": {}
      },
      "source": [
        "# Understanding how apply() works\n",
        "# It passes each column \n",
        "\n",
        "def own_function(x):\n",
        "  print(x)\n",
        "  return pd.Series([2]*4)\n",
        "\n",
        "df_raw[:2].apply(own_function)"
      ],
      "execution_count": 0,
      "outputs": []
    },
    {
      "cell_type": "code",
      "metadata": {
        "id": "E2jqaFqo-vRi",
        "colab_type": "code",
        "colab": {}
      },
      "source": [
        "# Slicing is allowed \n",
        "\n",
        "df_raw[0:2]"
      ],
      "execution_count": 0,
      "outputs": []
    },
    {
      "cell_type": "code",
      "metadata": {
        "id": "Cu3teMfO_ac9",
        "colab_type": "code",
        "colab": {}
      },
      "source": [
        "# Plotting \n",
        "\n",
        "age_wise = df_raw.groupby('age').mean()\n",
        "\n",
        "# Inplace changes the dataframe\n",
        "\n",
        "age_wise.sort_values(by = 'chol', ascending = True, inplace=True)\n",
        "\n",
        "# create the plot\n",
        "age_wise['chol'][:10].plot(kind='bar')\n",
        "\n",
        "# Set the title and labels\n",
        "plt.xlabel('age')\n",
        "plt.ylabel('cholestrol')\n",
        "\n",
        "# show the plot\n",
        "plt.show()"
      ],
      "execution_count": 0,
      "outputs": []
    },
    {
      "cell_type": "markdown",
      "metadata": {
        "id": "xLef8_WVJL2K",
        "colab_type": "text"
      },
      "source": [
        "## Congrats!\n",
        "\n",
        "On completing this tutorial, please visit the Kaggle in-class competition to compete"
      ]
    }
  ]
}