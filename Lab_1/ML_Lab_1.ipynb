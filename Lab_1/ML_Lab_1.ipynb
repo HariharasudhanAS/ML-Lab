{
  "nbformat": 4,
  "nbformat_minor": 0,
  "metadata": {
    "accelerator": "GPU",
    "colab": {
      "name": "ML Lab -1.ipynb",
      "version": "0.3.2",
      "provenance": [],
      "collapsed_sections": [
        "ceq7YAJkXbSX",
        "Vi3Kk5x2XbSi",
        "eMlgGNIJXbSw"
      ]
    },
    "kernelspec": {
      "display_name": "Python 3",
      "language": "python",
      "name": "python3"
    },
    "language_info": {
      "codemirror_mode": {
        "name": "ipython",
        "version": 3
      },
      "file_extension": ".py",
      "mimetype": "text/x-python",
      "name": "python",
      "nbconvert_exporter": "python",
      "pygments_lexer": "ipython3",
      "version": "3.6.8"
    }
  },
  "cells": [
    {
      "cell_type": "markdown",
      "metadata": {
        "colab_type": "text",
        "id": "3njljuHtAQIp"
      },
      "source": [
        "## Jupyter Notebook and Linux"
      ]
    },
    {
      "cell_type": "markdown",
      "metadata": {
        "colab_type": "text",
        "id": "dfnQqsEBAjTz"
      },
      "source": [
        "### Jupyter Noteboks\n",
        "\n",
        "The current platform (Colab) you are working on is based on Jupyter notebooks. These notebooks integrate code and its output into a single document. All the code blocks in a notebook are run by a same python kernel, and so the variables, function definitions etc are persistant across the code blocks (i.e. the whole notebook is a like a single code file but we are executing parts of it at a time).\n",
        "\n",
        "Basic commands:\n",
        "\n",
        "\n",
        "\n",
        "*   Shift + Enter = Execute the code block and goto next block\n",
        "*   Ctrl + Enter = Execute the code block\n",
        "*   Ctrl + / = Comment out the selected lines\n",
        "*   Tab = suggest auto-complete\n",
        "*   Tab inside function braces = suggest docstring/parameters\n",
        "\n",
        "\n",
        "\n",
        "\n",
        "[Jupyter magic commands](https://jakevdp.github.io/PythonDataScienceHandbook/01.07-timing-and-profiling.html):\n",
        "\n",
        "Note : % is line magic and works only for that particular line while %% is cell magic and runs on the whole code block\n",
        "\n",
        "*   %time - measure the [time taken](https://stackoverflow.com/a/47478852) to run the particular line of code\n",
        "*   %%time - measure the time taken to run the particular block of code\n",
        "*   %prun - run [code profiling](https://en.wikipedia.org/wiki/Profiling_(computer_programming) on the block\n",
        "\n",
        "You can access commonly used code snippets and files by clicking on the arrow at the left margin of the screen.\n",
        "\n",
        "See the [docs here](https://jupyter.readthedocs.io/en/latest/)"
      ]
    },
    {
      "cell_type": "code",
      "metadata": {
        "colab_type": "code",
        "id": "psRfO5KYAiEg",
        "colab": {}
      },
      "source": [
        "# Press shift+enter or ctrl+enter to execute this block\n",
        "\n",
        "def simple_interest(principle, rate, time):\n",
        "  '''\n",
        "  Returns the simple interest.\n",
        "  \n",
        "  interest = principle*rate*time/100\n",
        "  '''\n",
        "  \n",
        "  interest = principle*rate*time/100\n",
        "  return interest"
      ],
      "execution_count": 0,
      "outputs": []
    },
    {
      "cell_type": "code",
      "metadata": {
        "colab_type": "code",
        "id": "LwFIK_ksKYZ3",
        "colab": {}
      },
      "source": [
        "%time simple_interest(100, 1, 5)\n",
        "\n",
        "simple_interest(100, 1, 5)\n",
        "simple_interest(100, 1, 5)\n",
        "simple_interest(100, 1, 5)\n",
        "simple_interest(100, 1, 5)"
      ],
      "execution_count": 0,
      "outputs": []
    },
    {
      "cell_type": "code",
      "metadata": {
        "colab_type": "code",
        "id": "2p9s5mobKrSF",
        "colab": {}
      },
      "source": [
        "%%time \n",
        "\n",
        "simple_interest(100, 1, 5)\n",
        "\n",
        "a = 5**10000"
      ],
      "execution_count": 0,
      "outputs": []
    },
    {
      "cell_type": "code",
      "metadata": {
        "colab_type": "code",
        "id": "a6q8GIiyF5Xr",
        "colab": {}
      },
      "source": [
        "%prun simple_interest(100, 1, 5)"
      ],
      "execution_count": 0,
      "outputs": []
    },
    {
      "cell_type": "markdown",
      "metadata": {
        "colab_type": "text",
        "id": "vkX3IJ6fLM2o"
      },
      "source": [
        "### Linux\n",
        "\n",
        "\n",
        "\n",
        "Prefix ! before these commands while running in a code block. (Even though it runs without prefixing, it is good practice to differentiate python code from linux commands)\n",
        "\n",
        "Basic commands:\n",
        "\n",
        "\n",
        "\n",
        "*   cd \\<directory path>= change directory (goto directory path)\n",
        "*   ls = list contents of current directory\n",
        "*   rm \\<file path> = remove file\n",
        "*   rm -r \\<dir path> = remove the directory and its contents\n",
        "*   mkdir \\<name of dir> = make a new directory\n",
        "*   \\<command1> && \\<command2> = execute command1 then command2\n",
        "*   \\<command1> | \\<command2> = [Pipe](https://www.guru99.com/linux-pipe-grep.html#1) command1 to command 2\n",
        "\n",
        "[The Internet is your friend](http://cheatsheetworld.com/programming/unix-linux-cheat-sheet/)\n",
        "\n"
      ]
    },
    {
      "cell_type": "code",
      "metadata": {
        "colab_type": "code",
        "id": "mC8vVKdBMJHv",
        "colab": {}
      },
      "source": [
        "!ls"
      ],
      "execution_count": 0,
      "outputs": []
    },
    {
      "cell_type": "code",
      "metadata": {
        "colab_type": "code",
        "id": "JFGsWmiFMeKD",
        "colab": {}
      },
      "source": [
        "!mkdir checkthisout && ls"
      ],
      "execution_count": 0,
      "outputs": []
    },
    {
      "cell_type": "code",
      "metadata": {
        "colab_type": "code",
        "id": "6EJ4AZqdNGhk",
        "colab": {}
      },
      "source": [
        "!cd checkthisout && mkdir new && ls"
      ],
      "execution_count": 0,
      "outputs": []
    },
    {
      "cell_type": "code",
      "metadata": {
        "colab_type": "code",
        "id": "Dg7txMnmM9GA",
        "colab": {}
      },
      "source": [
        "!rm -r checkthisout/ && ls"
      ],
      "execution_count": 0,
      "outputs": []
    },
    {
      "cell_type": "markdown",
      "metadata": {
        "colab_type": "text",
        "id": "bLpeOb0NXbOU"
      },
      "source": [
        "## Python 3\n",
        "\n",
        "A very basic tutorial. Checkout [this tutorial](https://jakevdp.github.io/PythonDataScienceHandbook/) for a indepth view."
      ]
    },
    {
      "cell_type": "markdown",
      "metadata": {
        "colab_type": "text",
        "id": "Bb4egewDXbOZ"
      },
      "source": [
        "#### Basics"
      ]
    },
    {
      "cell_type": "code",
      "metadata": {
        "colab_type": "code",
        "id": "IdwEkj6cXbOb",
        "colab": {}
      },
      "source": [
        "# This is a comment"
      ],
      "execution_count": 0,
      "outputs": []
    },
    {
      "cell_type": "code",
      "metadata": {
        "colab_type": "code",
        "id": "kTmQb28QXbOl",
        "colab": {}
      },
      "source": [
        "\"\"\"\n",
        "This\n",
        "is a\n",
        "multiline comment\n",
        "\"\"\""
      ],
      "execution_count": 0,
      "outputs": []
    },
    {
      "cell_type": "code",
      "metadata": {
        "colab_type": "code",
        "id": "zbkW16dZXbOs",
        "colab": {}
      },
      "source": [
        "# Print function\n",
        "print(\"Hello\")\n",
        "print(\"World!\")"
      ],
      "execution_count": 0,
      "outputs": []
    },
    {
      "cell_type": "code",
      "metadata": {
        "colab_type": "code",
        "id": "GvlVs8MJXbOz",
        "colab": {}
      },
      "source": [
        "# `end` argument in print function\n",
        "print(\"Hello \",end='') # end='\\n' by default\n",
        "print(\"World!\")"
      ],
      "execution_count": 0,
      "outputs": []
    },
    {
      "cell_type": "code",
      "metadata": {
        "colab_type": "code",
        "id": "g-X0uRlkXbO6",
        "colab": {}
      },
      "source": [
        "# Take input from user\n",
        "inp = input('Enter some value: ')\n",
        "print('Input:',inp)\n",
        "print('Type: ',type(inp))"
      ],
      "execution_count": 0,
      "outputs": []
    },
    {
      "cell_type": "markdown",
      "metadata": {
        "colab_type": "text",
        "id": "i6eOEVyrXbO_"
      },
      "source": [
        "#### If-else"
      ]
    },
    {
      "cell_type": "code",
      "metadata": {
        "colab_type": "code",
        "id": "E6Puqd8PXbPG",
        "colab": {}
      },
      "source": [
        "if 5<4:\n",
        "    print('yes1')\n",
        "elif 5<6:\n",
        "    print('yes2')\n",
        "else:\n",
        "    print('no')"
      ],
      "execution_count": 0,
      "outputs": []
    },
    {
      "cell_type": "markdown",
      "metadata": {
        "colab_type": "text",
        "id": "Lk0Ntp7HXbPO"
      },
      "source": [
        "#### Loops"
      ]
    },
    {
      "cell_type": "code",
      "metadata": {
        "colab_type": "code",
        "id": "4rIC3I3YXbPW",
        "colab": {}
      },
      "source": [
        "for i in range(5):\n",
        "    if i<3:\n",
        "        continue\n",
        "    else:\n",
        "        print(i)\n",
        "        break"
      ],
      "execution_count": 0,
      "outputs": []
    },
    {
      "cell_type": "code",
      "metadata": {
        "colab_type": "code",
        "id": "WJi7z90RXbPd",
        "colab": {}
      },
      "source": [
        "# while loop\n",
        "i=0\n",
        "while i<5:\n",
        "    print(i)\n",
        "    i += 1"
      ],
      "execution_count": 0,
      "outputs": []
    },
    {
      "cell_type": "markdown",
      "metadata": {
        "colab_type": "text",
        "id": "70sHd7lEXbPh"
      },
      "source": [
        "#### Lists, Indexing, enumerate"
      ]
    },
    {
      "cell_type": "code",
      "metadata": {
        "colab_type": "code",
        "id": "itp_DuVZXbPj",
        "colab": {}
      },
      "source": [
        "l1 = [1,'hi',2.0]\n",
        "print(l1)"
      ],
      "execution_count": 0,
      "outputs": []
    },
    {
      "cell_type": "code",
      "metadata": {
        "colab_type": "code",
        "id": "zVDygXhSXbPn",
        "colab": {}
      },
      "source": [
        "l2 = list()\n",
        "l2.append(1)\n",
        "l2.append('hi')\n",
        "l2.append(2.0)\n",
        "print(l2)"
      ],
      "execution_count": 0,
      "outputs": []
    },
    {
      "cell_type": "code",
      "metadata": {
        "colab_type": "code",
        "id": "4KR15nE8XbPs",
        "colab": {}
      },
      "source": [
        "l2[0]"
      ],
      "execution_count": 0,
      "outputs": []
    },
    {
      "cell_type": "code",
      "metadata": {
        "colab_type": "code",
        "id": "MCEBUeIlXbPw",
        "colab": {}
      },
      "source": [
        "l2[0] = 15"
      ],
      "execution_count": 0,
      "outputs": []
    },
    {
      "cell_type": "code",
      "metadata": {
        "colab_type": "code",
        "id": "uJldy5NQXbP0",
        "colab": {}
      },
      "source": [
        "l2"
      ],
      "execution_count": 0,
      "outputs": []
    },
    {
      "cell_type": "code",
      "metadata": {
        "colab_type": "code",
        "id": "4RiNCkvuXbP5",
        "colab": {}
      },
      "source": [
        "l2[0:]"
      ],
      "execution_count": 0,
      "outputs": []
    },
    {
      "cell_type": "code",
      "metadata": {
        "colab_type": "code",
        "id": "QiH-FUgjXbP9",
        "colab": {}
      },
      "source": [
        "l2[:2]"
      ],
      "execution_count": 0,
      "outputs": []
    },
    {
      "cell_type": "code",
      "metadata": {
        "colab_type": "code",
        "id": "vX0EWXB5XbQC",
        "colab": {}
      },
      "source": [
        "l2[-1]"
      ],
      "execution_count": 0,
      "outputs": []
    },
    {
      "cell_type": "code",
      "metadata": {
        "colab_type": "code",
        "id": "OslOhd3aXbQG",
        "colab": {}
      },
      "source": [
        "len(l2)"
      ],
      "execution_count": 0,
      "outputs": []
    },
    {
      "cell_type": "code",
      "metadata": {
        "colab_type": "code",
        "id": "g97S-LCzXbQK",
        "colab": {}
      },
      "source": [
        "l1+l2"
      ],
      "execution_count": 0,
      "outputs": []
    },
    {
      "cell_type": "code",
      "metadata": {
        "colab_type": "code",
        "id": "5j7pBWG9XbQQ",
        "colab": {}
      },
      "source": [
        "# Iterate list\n",
        "for i in l1:\n",
        "    print(i)"
      ],
      "execution_count": 0,
      "outputs": []
    },
    {
      "cell_type": "code",
      "metadata": {
        "colab_type": "code",
        "id": "uQCuWGXqXbQT",
        "colab": {}
      },
      "source": [
        "# Iterate list index\n",
        "for i in range(len(l1)):\n",
        "    print(i)"
      ],
      "execution_count": 0,
      "outputs": []
    },
    {
      "cell_type": "code",
      "metadata": {
        "colab_type": "code",
        "id": "eOW8ocCXXbQZ",
        "colab": {}
      },
      "source": [
        "# enumerate\n",
        "for key,value in enumerate(l1):\n",
        "    print(key,value)"
      ],
      "execution_count": 0,
      "outputs": []
    },
    {
      "cell_type": "markdown",
      "metadata": {
        "colab_type": "text",
        "id": "ij9USErtXbQb"
      },
      "source": [
        "#### Tuples\n",
        "- Similar to lists but not immutable"
      ]
    },
    {
      "cell_type": "code",
      "metadata": {
        "colab_type": "code",
        "id": "9HXk0TpjXbQc",
        "colab": {}
      },
      "source": [
        "t1 = (1,2,'hi')"
      ],
      "execution_count": 0,
      "outputs": []
    },
    {
      "cell_type": "code",
      "metadata": {
        "colab_type": "code",
        "id": "cii36Dg0XbQi",
        "colab": {}
      },
      "source": [
        "t1[0]"
      ],
      "execution_count": 0,
      "outputs": []
    },
    {
      "cell_type": "code",
      "metadata": {
        "colab_type": "code",
        "id": "1wEJUoSQXbQl",
        "colab": {}
      },
      "source": [
        "t1[0:]"
      ],
      "execution_count": 0,
      "outputs": []
    },
    {
      "cell_type": "code",
      "metadata": {
        "colab_type": "code",
        "id": "Tieer4QmXbQn",
        "colab": {}
      },
      "source": [
        "t1[-1]"
      ],
      "execution_count": 0,
      "outputs": []
    },
    {
      "cell_type": "code",
      "metadata": {
        "colab_type": "code",
        "id": "IEmyUMZuXbQx",
        "colab": {}
      },
      "source": [
        "try:\n",
        "  t1[0]= 15 # ERROR\n",
        "except:\n",
        "  print(\"Error occured\")"
      ],
      "execution_count": 0,
      "outputs": []
    },
    {
      "cell_type": "code",
      "metadata": {
        "colab_type": "code",
        "id": "9ZHfVqp-XbQ0",
        "colab": {}
      },
      "source": [
        "# iterating tuple\n",
        "for i in t1:\n",
        "    print(i)"
      ],
      "execution_count": 0,
      "outputs": []
    },
    {
      "cell_type": "code",
      "metadata": {
        "colab_type": "code",
        "id": "17ElxCmnXbQ3",
        "colab": {}
      },
      "source": [
        "# enumerate\n",
        "for key,value in enumerate(t1):\n",
        "    print(key,value)"
      ],
      "execution_count": 0,
      "outputs": []
    },
    {
      "cell_type": "markdown",
      "metadata": {
        "colab_type": "text",
        "id": "37p0vl5GXbQ7"
      },
      "source": [
        "#### Dictionaries"
      ]
    },
    {
      "cell_type": "code",
      "metadata": {
        "colab_type": "code",
        "id": "HD675qd6XbQ8",
        "colab": {}
      },
      "source": [
        "d1 = {\n",
        "    'a':1,\n",
        "    'b':2\n",
        "}"
      ],
      "execution_count": 0,
      "outputs": []
    },
    {
      "cell_type": "code",
      "metadata": {
        "colab_type": "code",
        "id": "5aMUMyDMXbQ-",
        "colab": {}
      },
      "source": [
        "d1"
      ],
      "execution_count": 0,
      "outputs": []
    },
    {
      "cell_type": "code",
      "metadata": {
        "colab_type": "code",
        "id": "oYUYtS7oXbRB",
        "colab": {}
      },
      "source": [
        "d1['a']"
      ],
      "execution_count": 0,
      "outputs": []
    },
    {
      "cell_type": "code",
      "metadata": {
        "colab_type": "code",
        "id": "DV1Ja0xlXbRD",
        "colab": {}
      },
      "source": [
        "d1['a'] = 3"
      ],
      "execution_count": 0,
      "outputs": []
    },
    {
      "cell_type": "code",
      "metadata": {
        "colab_type": "code",
        "id": "7zuGoZR5XbRG",
        "colab": {}
      },
      "source": [
        "d1"
      ],
      "execution_count": 0,
      "outputs": []
    },
    {
      "cell_type": "code",
      "metadata": {
        "colab_type": "code",
        "id": "Jv82KB_lXbRH",
        "colab": {}
      },
      "source": [
        "d2 = {}\n",
        "d2['a'] = 1\n",
        "d2['b'] = 2"
      ],
      "execution_count": 0,
      "outputs": []
    },
    {
      "cell_type": "code",
      "metadata": {
        "colab_type": "code",
        "id": "nxNiNuv5XbRK",
        "colab": {}
      },
      "source": [
        "d2"
      ],
      "execution_count": 0,
      "outputs": []
    },
    {
      "cell_type": "code",
      "metadata": {
        "colab_type": "code",
        "id": "Ei33EClCXbRM",
        "colab": {}
      },
      "source": [
        "d3 = dict()\n",
        "d3['a'] = 1\n",
        "d3['b'] = 2"
      ],
      "execution_count": 0,
      "outputs": []
    },
    {
      "cell_type": "code",
      "metadata": {
        "colab_type": "code",
        "id": "MPT-WubXXbRP",
        "colab": {}
      },
      "source": [
        "d3"
      ],
      "execution_count": 0,
      "outputs": []
    },
    {
      "cell_type": "code",
      "metadata": {
        "colab_type": "code",
        "id": "vxHqntgeXbRU",
        "colab": {}
      },
      "source": [
        "d1.keys()"
      ],
      "execution_count": 0,
      "outputs": []
    },
    {
      "cell_type": "code",
      "metadata": {
        "colab_type": "code",
        "id": "ETWKrfzmXbRY",
        "colab": {}
      },
      "source": [
        "list(d1.keys())"
      ],
      "execution_count": 0,
      "outputs": []
    },
    {
      "cell_type": "code",
      "metadata": {
        "colab_type": "code",
        "id": "rTzIHo1-XbRd",
        "colab": {}
      },
      "source": [
        "d1.values()"
      ],
      "execution_count": 0,
      "outputs": []
    },
    {
      "cell_type": "code",
      "metadata": {
        "colab_type": "code",
        "id": "ebDmi1W_XbRh",
        "colab": {}
      },
      "source": [
        "list(d1.values())"
      ],
      "execution_count": 0,
      "outputs": []
    },
    {
      "cell_type": "code",
      "metadata": {
        "colab_type": "code",
        "id": "_paUio07XbRj",
        "colab": {}
      },
      "source": [
        "d1.items()"
      ],
      "execution_count": 0,
      "outputs": []
    },
    {
      "cell_type": "code",
      "metadata": {
        "colab_type": "code",
        "id": "u2hSQL53XbRl",
        "colab": {}
      },
      "source": [
        "list(d1.items())"
      ],
      "execution_count": 0,
      "outputs": []
    },
    {
      "cell_type": "code",
      "metadata": {
        "colab_type": "code",
        "id": "VBDrrrgZXbRo",
        "colab": {}
      },
      "source": [
        "# Iterate dictionary\n",
        "for key,value in d1.items():\n",
        "    print(key, value)"
      ],
      "execution_count": 0,
      "outputs": []
    },
    {
      "cell_type": "code",
      "metadata": {
        "colab_type": "code",
        "id": "NIFZ0-c1XbRr",
        "colab": {}
      },
      "source": [
        "if 'a' in d1:\n",
        "    print('yes')"
      ],
      "execution_count": 0,
      "outputs": []
    },
    {
      "cell_type": "code",
      "metadata": {
        "colab_type": "code",
        "id": "ILE7ihWvXbRv",
        "colab": {}
      },
      "source": [
        "len(d1)"
      ],
      "execution_count": 0,
      "outputs": []
    },
    {
      "cell_type": "markdown",
      "metadata": {
        "colab_type": "text",
        "id": "2jDb_fyrXbRy"
      },
      "source": [
        "#### Functions"
      ]
    },
    {
      "cell_type": "code",
      "metadata": {
        "colab_type": "code",
        "id": "7vnY5sNQXbRy",
        "colab": {}
      },
      "source": [
        "def func_name(arg1, arg2):\n",
        "    print(arg1,arg2)"
      ],
      "execution_count": 0,
      "outputs": []
    },
    {
      "cell_type": "code",
      "metadata": {
        "colab_type": "code",
        "id": "ra8xPdv6XbR0",
        "colab": {}
      },
      "source": [
        "func_name(1,'hi')"
      ],
      "execution_count": 0,
      "outputs": []
    },
    {
      "cell_type": "code",
      "metadata": {
        "colab_type": "code",
        "id": "w2YMnLBHXbR2",
        "colab": {}
      },
      "source": [
        "func_name([1,2,3,4],'hi')"
      ],
      "execution_count": 0,
      "outputs": []
    },
    {
      "cell_type": "code",
      "metadata": {
        "colab_type": "code",
        "id": "tPF9dT9BXbR5",
        "colab": {}
      },
      "source": [
        "# Variable arguments\n",
        "def func_name(*args):\n",
        "    for arg in args:\n",
        "        print(arg)"
      ],
      "execution_count": 0,
      "outputs": []
    },
    {
      "cell_type": "code",
      "metadata": {
        "colab_type": "code",
        "id": "-z7lCEQQXbR7",
        "colab": {}
      },
      "source": [
        "func_name(1,6.0)"
      ],
      "execution_count": 0,
      "outputs": []
    },
    {
      "cell_type": "code",
      "metadata": {
        "colab_type": "code",
        "id": "pGO6RXHdXbR9",
        "colab": {}
      },
      "source": [
        "func_name(1,2,'hi')"
      ],
      "execution_count": 0,
      "outputs": []
    },
    {
      "cell_type": "code",
      "metadata": {
        "colab_type": "code",
        "id": "DWLMtAksXbR_",
        "colab": {}
      },
      "source": [
        "# keyword arguments\n",
        "def func_name(**kwargs):\n",
        "    for key,value in kwargs.items():\n",
        "        print(key,value)"
      ],
      "execution_count": 0,
      "outputs": []
    },
    {
      "cell_type": "code",
      "metadata": {
        "colab_type": "code",
        "id": "z7SCtCEnXbSG",
        "colab": {}
      },
      "source": [
        "func_name(a=1,b=6.0)"
      ],
      "execution_count": 0,
      "outputs": []
    },
    {
      "cell_type": "code",
      "metadata": {
        "colab_type": "code",
        "id": "fi81R73_XbSJ",
        "colab": {}
      },
      "source": [
        "# Variable arguments\n",
        "def func_name(*args,**kwargs):\n",
        "    for arg in args:\n",
        "        print(arg)\n",
        "    for key,value in kwargs.items():\n",
        "        print(key,value)"
      ],
      "execution_count": 0,
      "outputs": []
    },
    {
      "cell_type": "code",
      "metadata": {
        "colab_type": "code",
        "id": "ferlRWQmXbSM",
        "colab": {}
      },
      "source": [
        "func_name('hi','there',a=1,b=6.0)"
      ],
      "execution_count": 0,
      "outputs": []
    },
    {
      "cell_type": "markdown",
      "metadata": {
        "colab_type": "text",
        "id": "Y0SDihBTXbSP"
      },
      "source": [
        "#### String formatting"
      ]
    },
    {
      "cell_type": "code",
      "metadata": {
        "colab_type": "code",
        "id": "F7ciFm0-XbSQ",
        "colab": {}
      },
      "source": [
        "# String formatting\n",
        "print('Hello {} from {}'.format(1,2))"
      ],
      "execution_count": 0,
      "outputs": []
    },
    {
      "cell_type": "code",
      "metadata": {
        "colab_type": "code",
        "id": "WoNlS6DeXbST",
        "colab": {}
      },
      "source": [
        "# String formatting\n",
        "def dummy():\n",
        "    return 4.0\n",
        "print('My lucky number is {}'.format(dummy()))"
      ],
      "execution_count": 0,
      "outputs": []
    },
    {
      "cell_type": "code",
      "metadata": {
        "colab_type": "code",
        "id": "uDJkD2IGXbSV",
        "colab": {}
      },
      "source": [
        "x = 'My lucky number is {}'.format(dummy())\n",
        "print(x)"
      ],
      "execution_count": 0,
      "outputs": []
    },
    {
      "cell_type": "markdown",
      "metadata": {
        "colab_type": "text",
        "id": "ceq7YAJkXbSX"
      },
      "source": [
        "#### List comprehension"
      ]
    },
    {
      "cell_type": "code",
      "metadata": {
        "colab_type": "code",
        "id": "TXrEVUOKXbSY",
        "colab": {}
      },
      "source": [
        "[x ** 2 for x in range(1, 11) if x % 2 == 1]"
      ],
      "execution_count": 0,
      "outputs": []
    },
    {
      "cell_type": "markdown",
      "metadata": {
        "colab_type": "text",
        "id": "Vi3Kk5x2XbSi"
      },
      "source": [
        "#### map(function, iterable)\n",
        "- returns a list of the results after applying the given function to each item of a given iterable (list, tuple etc.)"
      ]
    },
    {
      "cell_type": "code",
      "metadata": {
        "colab_type": "code",
        "id": "q7U9MC1wXbSj",
        "colab": {}
      },
      "source": [
        "def check(x):\n",
        "    if type(x) is str:\n",
        "        return x\n",
        "    else:\n",
        "        return '-'\n",
        "a = [1,2,4,'hi',4.5]\n",
        "res = map(check,a)"
      ],
      "execution_count": 0,
      "outputs": []
    },
    {
      "cell_type": "code",
      "metadata": {
        "colab_type": "code",
        "id": "0GebyxFsXbSn",
        "colab": {}
      },
      "source": [
        "list(res)"
      ],
      "execution_count": 0,
      "outputs": []
    },
    {
      "cell_type": "code",
      "metadata": {
        "colab_type": "code",
        "id": "M-AXLK6HXbSo",
        "colab": {}
      },
      "source": [
        "for res in map(check,a):\n",
        "    print(res)"
      ],
      "execution_count": 0,
      "outputs": []
    },
    {
      "cell_type": "code",
      "metadata": {
        "colab_type": "code",
        "id": "DkUAHaohXbSq",
        "colab": {}
      },
      "source": [
        "[x for x in map(check,a)]"
      ],
      "execution_count": 0,
      "outputs": []
    },
    {
      "cell_type": "code",
      "metadata": {
        "colab_type": "code",
        "id": "LPch2dfiXbSu",
        "colab": {}
      },
      "source": [
        "[x for x in map(check,a) if x!='-']"
      ],
      "execution_count": 0,
      "outputs": []
    },
    {
      "cell_type": "markdown",
      "metadata": {
        "colab_type": "text",
        "id": "eMlgGNIJXbSw"
      },
      "source": [
        "#### zip"
      ]
    },
    {
      "cell_type": "code",
      "metadata": {
        "colab_type": "code",
        "id": "2_lCjQIYXbSx",
        "colab": {}
      },
      "source": [
        "a = [1,2,3]\n",
        "b = ['Me','You','Someone else']\n",
        "c = [1.0,2.0,3.0]\n",
        "res = zip(a, b, c)"
      ],
      "execution_count": 0,
      "outputs": []
    },
    {
      "cell_type": "code",
      "metadata": {
        "colab_type": "code",
        "id": "896S0V5gXbSz",
        "colab": {}
      },
      "source": [
        "list(res)"
      ],
      "execution_count": 0,
      "outputs": []
    },
    {
      "cell_type": "code",
      "metadata": {
        "colab_type": "code",
        "id": "7unJXZfxXbS0",
        "colab": {}
      },
      "source": [
        "for res in zip(a, b, c):\n",
        "    print(res)"
      ],
      "execution_count": 0,
      "outputs": []
    },
    {
      "cell_type": "code",
      "metadata": {
        "colab_type": "code",
        "id": "-ikPA7q6XbS2",
        "colab": {}
      },
      "source": [
        "[x for x in zip(a, b, c)]"
      ],
      "execution_count": 0,
      "outputs": []
    },
    {
      "cell_type": "code",
      "metadata": {
        "colab_type": "code",
        "id": "u02nYfCBXbS4",
        "colab": {}
      },
      "source": [
        "[x for x in zip(a, b, c) if x[0]<3]"
      ],
      "execution_count": 0,
      "outputs": []
    },
    {
      "cell_type": "markdown",
      "metadata": {
        "colab_type": "text",
        "id": "fKDxg7nfXbS9"
      },
      "source": [
        "#### Importing Modules\n",
        "\n",
        "Modules are like libraries in C++. You can access the functions using the module names.\n",
        "\n",
        "See [docs here](https://docs.python.org/3/tutorial/modules.html)"
      ]
    },
    {
      "cell_type": "code",
      "metadata": {
        "colab_type": "code",
        "id": "43bwtvKpXbS9",
        "colab": {}
      },
      "source": [
        "# import modules\n",
        "import numpy"
      ],
      "execution_count": 0,
      "outputs": []
    },
    {
      "cell_type": "code",
      "metadata": {
        "colab_type": "code",
        "id": "8fjbnaE7XbTB",
        "colab": {}
      },
      "source": [
        "numpy.__version__"
      ],
      "execution_count": 0,
      "outputs": []
    },
    {
      "cell_type": "code",
      "metadata": {
        "colab_type": "code",
        "id": "YBK27hDqXbTC",
        "colab": {}
      },
      "source": [
        "# change alias while importing \n",
        "\n",
        "import numpy as np"
      ],
      "execution_count": 0,
      "outputs": []
    },
    {
      "cell_type": "code",
      "metadata": {
        "colab_type": "code",
        "id": "GAmB-FMjXbTF",
        "colab": {}
      },
      "source": [
        "np.__version__"
      ],
      "execution_count": 0,
      "outputs": []
    },
    {
      "cell_type": "code",
      "metadata": {
        "colab_type": "code",
        "id": "rHVCjAeIXbTH",
        "colab": {}
      },
      "source": [
        "numpy==np"
      ],
      "execution_count": 0,
      "outputs": []
    },
    {
      "cell_type": "code",
      "metadata": {
        "colab_type": "code",
        "id": "dLf9H0IGXbTJ",
        "colab": {}
      },
      "source": [
        "from numpy import array"
      ],
      "execution_count": 0,
      "outputs": []
    },
    {
      "cell_type": "code",
      "metadata": {
        "colab_type": "code",
        "id": "RdULjc9lXbTK",
        "colab": {}
      },
      "source": [
        "array([1,2,3,4])"
      ],
      "execution_count": 0,
      "outputs": []
    },
    {
      "cell_type": "markdown",
      "metadata": {
        "colab_type": "text",
        "id": "1SupGIrlAIY7"
      },
      "source": [
        "## Numpy"
      ]
    },
    {
      "cell_type": "markdown",
      "metadata": {
        "colab_type": "text",
        "id": "mJKBP9D6O5cw"
      },
      "source": [
        "The numpy package (module) is used in almost all numerical computation using Python. It is a package that provide high-performance vector, matrix and higher-dimensional data structures for Python. It is implemented in C and Fortran so when calculations are [vectorized](https://easyperf.net/blog/2017/10/24/Vectorization_part1) (formulated with vectors and matrices), performance is very good.\n",
        "\n",
        "To use numpy you need to import the module, using for example:\n"
      ]
    },
    {
      "cell_type": "code",
      "metadata": {
        "colab_type": "code",
        "id": "9Lpd-JluO7rk",
        "colab": {}
      },
      "source": [
        "import numpy as np"
      ],
      "execution_count": 0,
      "outputs": []
    },
    {
      "cell_type": "code",
      "metadata": {
        "colab_type": "code",
        "id": "sjrfP4U3PEmg",
        "colab": {}
      },
      "source": [
        "test = np.array([1,2,3,4,5])\n",
        "test2 = np.array([[1,2],[3,4]])\n",
        "\n",
        "print(type(test), type(test2), test.shape, test2.shape)"
      ],
      "execution_count": 0,
      "outputs": []
    },
    {
      "cell_type": "code",
      "metadata": {
        "colab_type": "code",
        "id": "8zWkF8-vToI9",
        "colab": {}
      },
      "source": [
        "print(test*2)"
      ],
      "execution_count": 0,
      "outputs": []
    },
    {
      "cell_type": "code",
      "metadata": {
        "colab_type": "code",
        "id": "RjAUczZnTrWO",
        "colab": {}
      },
      "source": [
        "print(test + 4*test)"
      ],
      "execution_count": 0,
      "outputs": []
    },
    {
      "cell_type": "code",
      "metadata": {
        "colab_type": "code",
        "id": "Uv7XnWdwPazM",
        "colab": {}
      },
      "source": [
        "# dtype is the datatype\n",
        "\n",
        "test3 = np.array([1,2,3,4,5], dtype=complex)\n",
        "\n",
        "print(\"test3 =\", test3)\n",
        "\n",
        "print('test2 dtype =', test2.dtype)\n",
        "\n",
        "test2 = test2.astype(np.uint8)\n",
        "\n",
        "print('test2 dtype =', test2.dtype)"
      ],
      "execution_count": 0,
      "outputs": []
    },
    {
      "cell_type": "code",
      "metadata": {
        "colab_type": "code",
        "id": "hoNWvMRPRBPp",
        "colab": {}
      },
      "source": [
        "# indexed as row:col:step\n",
        "\n",
        "print('test3', test3)\n",
        "print('test3[::2]', test3[::2])\n",
        "print('test3[1::2]', test3[1::2])"
      ],
      "execution_count": 0,
      "outputs": []
    },
    {
      "cell_type": "code",
      "metadata": {
        "colab_type": "code",
        "id": "R-3E5w2tQSPv",
        "colab": {}
      },
      "source": [
        "print('test2[1,1]', test2[1,1])\n",
        "print('test2[1,:]', test2[1,:])\n",
        "print('test2[:,1]', test2[:,1])"
      ],
      "execution_count": 0,
      "outputs": []
    },
    {
      "cell_type": "code",
      "metadata": {
        "colab_type": "code",
        "id": "surdeeqaRoh2",
        "colab": {}
      },
      "source": [
        "row_indices = [1, 2, 3]\n",
        "print(test3[row_indices])"
      ],
      "execution_count": 0,
      "outputs": []
    },
    {
      "cell_type": "code",
      "metadata": {
        "colab_type": "code",
        "id": "fxXAVcr-SRXW",
        "colab": {}
      },
      "source": [
        "row_mask = np.array([1,0,1,0,0], dtype=bool)\n",
        "print(test3[row_mask])"
      ],
      "execution_count": 0,
      "outputs": []
    },
    {
      "cell_type": "code",
      "metadata": {
        "colab_type": "code",
        "id": "xRCQ9mqXSiR9",
        "colab": {}
      },
      "source": [
        "A = np.array([[n+m*10 for n in range(5)] for m in range(5)])\n",
        "\n",
        "print(A)"
      ],
      "execution_count": 0,
      "outputs": []
    },
    {
      "cell_type": "code",
      "metadata": {
        "colab_type": "code",
        "id": "WeWXfV6xSv_J",
        "colab": {}
      },
      "source": [
        "print('Dot \\n', np.dot(A,A), '\\n')\n",
        "\n",
        "# Numpy arrays are broadcasted to fit the shape \n",
        "# of the other arrays in the operation\n",
        "print('Example of broadcasting (1-A): \\n', 1-A)"
      ],
      "execution_count": 0,
      "outputs": []
    },
    {
      "cell_type": "markdown",
      "metadata": {
        "id": "pi1zc3ELxQVY",
        "colab_type": "text"
      },
      "source": [
        "Numpy is [reallyyyyy fast](http://arogozhnikov.github.io/2015/01/06/benchmarks-of-speed-numpy-vs-all.html) (not as fast as compiled code though)\n",
        "\n",
        "Gradient Descent benchmark: \n",
        "\n",
        "![Gradient Descent](https://i.imgur.com/9GSrkbr.png)"
      ]
    },
    {
      "cell_type": "code",
      "metadata": {
        "id": "db4QRlqDrrxP",
        "colab_type": "code",
        "colab": {}
      },
      "source": [
        "# Speed test - bear in mind that list comprehensions are vectorised\n",
        "\n",
        "def custom_dot(A, B):\n",
        "  \n",
        "  C = [[0 for i in range(len(B[0]))] for j in range(len(A))]\n",
        "  \n",
        "  for i in range(len(A)):\n",
        "    for j in range(len(B[0])):\n",
        "      C[i][j] = sum(A[i,:] * B[:,j])\n",
        "  \n",
        "  return C\n",
        "    \n",
        "%time using_numpy = np.dot(A,A)\n",
        "%time raw_python = custom_dot(A,A)"
      ],
      "execution_count": 0,
      "outputs": []
    },
    {
      "cell_type": "code",
      "metadata": {
        "colab_type": "code",
        "id": "kFSRXUjjTLwh",
        "colab": {}
      },
      "source": [
        "print(np.mean(A))"
      ],
      "execution_count": 0,
      "outputs": []
    },
    {
      "cell_type": "code",
      "metadata": {
        "colab_type": "code",
        "id": "f51C3ylOTOD4",
        "colab": {}
      },
      "source": [
        "# in an array of shape (a,b,c,..), a is axis 0, b is axis 1 etc.\n",
        "print(np.mean(A, axis=1))"
      ],
      "execution_count": 0,
      "outputs": []
    },
    {
      "cell_type": "code",
      "metadata": {
        "colab_type": "code",
        "id": "7nQHzMjBTSb1",
        "colab": {}
      },
      "source": [
        "print(np.sum(A, axis=0))"
      ],
      "execution_count": 0,
      "outputs": []
    },
    {
      "cell_type": "markdown",
      "metadata": {
        "colab_type": "text",
        "id": "EHXiIOSrALWw"
      },
      "source": [
        "## Matplotlib"
      ]
    },
    {
      "cell_type": "markdown",
      "metadata": {
        "colab_type": "text",
        "id": "HkjVBmwYUEEM"
      },
      "source": [
        "Plotting library, see [docs](https://matplotlib.org/3.1.1/contents.html)."
      ]
    },
    {
      "cell_type": "code",
      "metadata": {
        "colab_type": "code",
        "id": "hGecpK7QAK4x",
        "colab": {}
      },
      "source": [
        "import matplotlib.pyplot as plt"
      ],
      "execution_count": 0,
      "outputs": []
    },
    {
      "cell_type": "code",
      "metadata": {
        "colab_type": "code",
        "id": "l1TtGn2LAH2v",
        "colab": {}
      },
      "source": [
        "x = np.linspace(0, 5, 10)\n",
        "y = x ** 2"
      ],
      "execution_count": 0,
      "outputs": []
    },
    {
      "cell_type": "code",
      "metadata": {
        "colab_type": "code",
        "id": "WE3K2YLm1vH0",
        "colab": {}
      },
      "source": [
        "# figure()\n",
        "plt.plot(x, y, 'r', label='label')\n",
        "plt.xlabel('x')\n",
        "plt.ylabel('y')\n",
        "plt.legend()\n",
        "plt.title('title')\n",
        "plt.show()"
      ],
      "execution_count": 0,
      "outputs": []
    },
    {
      "cell_type": "code",
      "metadata": {
        "colab_type": "code",
        "id": "qWd1dQT_UWNv",
        "colab": {}
      },
      "source": [
        "# random examples\n",
        "\n",
        "xx = np.linspace(-0.75, 1., 100)\n",
        "n = np.array([0,1,2,3,4,5])\n",
        "\n",
        "fig, axes = plt.subplots(1, 4, figsize=(12,3))\n",
        "\n",
        "axes[0].scatter(xx, xx + 0.25*np.random.randn(len(xx)))\n",
        "axes[0].set_title(\"scatter\")\n",
        "\n",
        "axes[1].step(n, n**2, lw=2)\n",
        "axes[1].set_title(\"step\")\n",
        "\n",
        "axes[2].bar(n, n**2, align=\"center\", width=0.5, alpha=0.5)\n",
        "axes[2].set_title(\"bar\")\n",
        "\n",
        "axes[3].fill_between(x, x**2, x**3, color=\"green\", alpha=0.5);\n",
        "axes[3].set_title(\"fill_between\");"
      ],
      "execution_count": 0,
      "outputs": []
    },
    {
      "cell_type": "markdown",
      "metadata": {
        "colab_type": "text",
        "id": "U65z_gDCWWs5"
      },
      "source": [
        "## Pandas\n",
        "\n",
        "Library used to manipulate dataframes. A dataframe is a structured data format used to represent tabular data (or anyother data that can be represented in tabular form).\n",
        "\n",
        "As always, Google or check the [docs](https://pandas.pydata.org/pandas-docs/stable/reference/index.html) in case of queries.\n",
        "\n",
        "Check out these excellent [exercises](https://github.com/guipsamora/pandas_exercises)."
      ]
    },
    {
      "cell_type": "code",
      "metadata": {
        "colab_type": "code",
        "id": "hsz1idr9WVaV",
        "colab": {}
      },
      "source": [
        "import pandas as pd\n",
        "\n",
        "URL = 'https://raw.githubusercontent.com/HariharasudhanAS/ML-Lab/master/Lab_1/heart.csv'\n",
        "\n",
        "df_raw = pd.read_csv(URL)\n",
        "\n",
        "#display top 'x=5' rows\n",
        "\n",
        "df_raw.head(5)"
      ],
      "execution_count": 0,
      "outputs": []
    },
    {
      "cell_type": "code",
      "metadata": {
        "colab_type": "code",
        "id": "r__9OGkRXL8G",
        "colab": {}
      },
      "source": [
        "df_raw.tail(4)"
      ],
      "execution_count": 0,
      "outputs": []
    },
    {
      "cell_type": "code",
      "metadata": {
        "colab_type": "code",
        "id": "6jRryxHsYvb1",
        "colab": {}
      },
      "source": [
        "print(df_raw.shape)"
      ],
      "execution_count": 0,
      "outputs": []
    },
    {
      "cell_type": "code",
      "metadata": {
        "colab_type": "code",
        "id": "fnHYTVFaY18d",
        "colab": {}
      },
      "source": [
        "# dtype is the datatype\n",
        "\n",
        "print(df_raw.dtypes)"
      ],
      "execution_count": 0,
      "outputs": []
    },
    {
      "cell_type": "code",
      "metadata": {
        "colab_type": "code",
        "id": "Oiw3MELZY3K0",
        "colab": {}
      },
      "source": [
        "print(df_raw.columns)"
      ],
      "execution_count": 0,
      "outputs": []
    },
    {
      "cell_type": "code",
      "metadata": {
        "colab_type": "code",
        "id": "EraosGDOY4xU",
        "colab": {}
      },
      "source": [
        "print(df_raw.describe())"
      ],
      "execution_count": 0,
      "outputs": []
    },
    {
      "cell_type": "code",
      "metadata": {
        "colab_type": "code",
        "id": "gE1Nqm4N8RlN",
        "colab": {}
      },
      "source": [
        "# use display() (a jupyter specific function) if you want to pretty print the output\n",
        "\n",
        "display(df_raw.describe())"
      ],
      "execution_count": 0,
      "outputs": []
    },
    {
      "cell_type": "code",
      "metadata": {
        "colab_type": "code",
        "id": "hsjDpsG8ZJpj",
        "colab": {}
      },
      "source": [
        "# grouping like in SQL\n",
        "\n",
        "grouped = df_raw.groupby('age')\n",
        "grouped_sum = grouped.sum()"
      ],
      "execution_count": 0,
      "outputs": []
    },
    {
      "cell_type": "code",
      "metadata": {
        "colab_type": "code",
        "id": "4jhN52WEZlG_",
        "colab": {}
      },
      "source": [
        "grouped_sum.head()"
      ],
      "execution_count": 0,
      "outputs": []
    },
    {
      "cell_type": "code",
      "metadata": {
        "colab_type": "code",
        "id": "WlFl9V-MZyO-",
        "colab": {}
      },
      "source": [
        "# not recommended\n",
        "grouped_sum.thalach.mean()"
      ],
      "execution_count": 0,
      "outputs": []
    },
    {
      "cell_type": "code",
      "metadata": {
        "colab_type": "code",
        "id": "mGV7bY0uaG0Q",
        "colab": {}
      },
      "source": [
        "# recommended\n",
        "grouped_sum['thalach'].mean()"
      ],
      "execution_count": 0,
      "outputs": []
    },
    {
      "cell_type": "code",
      "metadata": {
        "colab_type": "code",
        "id": "utyz0G-GaQBS",
        "colab": {}
      },
      "source": [
        "# Functions can be attached to output of another function\n",
        "\n",
        "df_raw.groupby('age').sum()['thalach'].mean()"
      ],
      "execution_count": 0,
      "outputs": []
    },
    {
      "cell_type": "code",
      "metadata": {
        "colab_type": "code",
        "id": "OFAsVUIfaYQx",
        "colab": {}
      },
      "source": [
        "# .agg() - Aggregate using one or more operations over the specified axis.\n",
        "\n",
        "df_raw.groupby('age')['thalach'].agg(['mean', 'min', 'max'], axis=0).head(4)"
      ],
      "execution_count": 0,
      "outputs": []
    },
    {
      "cell_type": "code",
      "metadata": {
        "colab_type": "code",
        "id": "i0dutdYbakAq",
        "colab": {}
      },
      "source": [
        "# Access elements in dataframe by index \n",
        "\n",
        "df_raw.iloc[:,0:10].head()"
      ],
      "execution_count": 0,
      "outputs": []
    },
    {
      "cell_type": "markdown",
      "metadata": {
        "colab_type": "text",
        "id": "ZkNcEj3qHFZ0"
      },
      "source": [
        "[Difference btw iloc, loc and ix](https://stackoverflow.com/questions/31593201/how-are-iloc-ix-and-loc-different)"
      ]
    },
    {
      "cell_type": "code",
      "metadata": {
        "colab_type": "code",
        "id": "9UnXrVhb9bWt",
        "colab": {}
      },
      "source": [
        "# Apply a function to columns or rows\n",
        "\n",
        "df_raw.apply(np.sum, axis=0).head()"
      ],
      "execution_count": 0,
      "outputs": []
    },
    {
      "cell_type": "code",
      "metadata": {
        "colab_type": "code",
        "id": "HMyeKx31-avS",
        "colab": {}
      },
      "source": [
        "# Using lambda functions\n",
        "\n",
        "display(df_raw.apply(lambda x: x*2, axis=0).head())\n",
        "\n",
        "display(df_raw.head())"
      ],
      "execution_count": 0,
      "outputs": []
    },
    {
      "cell_type": "code",
      "metadata": {
        "colab_type": "code",
        "id": "7y7rRd_C-sXf",
        "colab": {}
      },
      "source": [
        "# Understanding how apply() works\n",
        "# It passes each column \n",
        "\n",
        "def own_function(x):\n",
        "  print(x)\n",
        "  return pd.Series([2]*4)\n",
        "\n",
        "df_raw[:2].apply(own_function)"
      ],
      "execution_count": 0,
      "outputs": []
    },
    {
      "cell_type": "code",
      "metadata": {
        "colab_type": "code",
        "id": "E2jqaFqo-vRi",
        "colab": {}
      },
      "source": [
        "# Slicing is allowed \n",
        "\n",
        "df_raw[0:2]"
      ],
      "execution_count": 0,
      "outputs": []
    },
    {
      "cell_type": "code",
      "metadata": {
        "colab_type": "code",
        "id": "Cu3teMfO_ac9",
        "colab": {}
      },
      "source": [
        "# Plotting \n",
        "\n",
        "age_wise = df_raw.groupby('age').mean()\n",
        "\n",
        "# Inplace changes the dataframe\n",
        "\n",
        "age_wise.sort_values(by = 'chol', ascending = True, inplace=True)\n",
        "\n",
        "# create the plot\n",
        "age_wise['chol'][:10].plot(kind='bar')\n",
        "\n",
        "# Set the title and labels\n",
        "plt.xlabel('age')\n",
        "plt.ylabel('cholestrol')\n",
        "\n",
        "# show the plot\n",
        "plt.show()"
      ],
      "execution_count": 0,
      "outputs": []
    },
    {
      "cell_type": "markdown",
      "metadata": {
        "colab_type": "text",
        "id": "xLef8_WVJL2K"
      },
      "source": [
        "## Congrats!\n",
        "\n",
        "On completing this tutorial, please visit the Kaggle in-class competition to compete"
      ]
    }
  ]
}