{
 "cells": [
  {
   "cell_type": "code",
   "execution_count": 36,
   "metadata": {},
   "outputs": [
    {
     "name": "stdout",
     "output_type": "stream",
     "text": [
      "  % Total    % Received % Xferd  Average Speed   Time    Time     Time  Current\n",
      "                                 Dload  Upload   Total   Spent    Left  Speed\n",
      "100  5120  100  5120    0     0  12427      0 --:--:-- --:--:-- --:--:-- 12397\n"
     ]
    }
   ],
   "source": [
    "import pandas as pd\n",
    "import numpy as np\n",
    "from sklearn.tree import DecisionTreeRegressor \n",
    "from sklearn.model_selection import train_test_split\n",
    "from sklearn.metrics import mean_squared_error\n",
    "from math import sqrt\n",
    "from sklearn import tree\n",
    "import warnings\n",
    "warnings.filterwarnings('ignore')\n",
    "!curl https://raw.githubusercontent.com/HariharasudhanAS/ML-Lab/master/Lab_2/id3.py > id3.py"
   ]
  },
  {
   "cell_type": "markdown",
   "metadata": {},
   "source": [
    "## Theory\n",
    "\n",
    "What decision trees try to do:\n",
    "![Partition of an input space](https://raw.githubusercontent.com/HariharasudhanAS/ML-Lab/master/Lab_2/Partitioning-of-an-input-space-by-a-decision-tree.png)\n",
    "\n",
    "<i><center>Source - Potts, Duncan & Sammut, Claude. (2019). Online Nonlinear System Identification in High Dimensional Environments.</center></i>\n",
    "\n",
    "You can see the input space in the left and the tree formed in the right. This is a very simple problem we have considered to make it easier to visualize. We are basically trying to model the underlying distribution using the tree. The underlying distribution in real-life is mostly non-linear and thus cannot be modelled using a linear regression model. Trees help in this case as they are able to model non-linear functions better than linear-regression.\n",
    "\n",
    "But since we cannot model the function perfectly (will need all datapoints corresponding to every single coordinate in the input space to perfectly model it), we try approximating it. To what level? This is the problem of [Bias-Variance tradeoff](https://hariharasudhanas.github.io/2018/10/15/bias-variance-tradeoff/)\n",
    "\n",
    "Prediction using a linear regression model:\n",
    "\n",
    "![Bias-Variance Tradeoff](https://i.imgur.com/BanS6li.png)\n",
    "\n",
    "<i><center> Source - ISLR (Gareth James et al.) </center></i>\n",
    "\n",
    "As you can see, the mean error of the model is dependent on the bais and variance of the model. The last term on the right is the error in samples (sample's that disobey the distribution) and are called irreducible error.\n",
    "\n",
    "<img src=\"https://raw.githubusercontent.com/HariharasudhanAS/ML-Lab/master/Lab_2/tradeoff.png\" alt=\"Tradeoff\" style=\"width: 500px;\"/>\n",
    "\n",
    "<i><center> Source - <a href=\"https://community.alteryx.com/t5/Data-Science-Blog/Bias-Versus-Variance/ba-p/351862\">Blog by Sydney Firmin</a> </center></i> \n",
    "\n",
    "We aim to acheive the sweet spot in the middle\n",
    "\n",
    "The graphical representation of the models might resemble this\n",
    "\n",
    "![overfitting](https://raw.githubusercontent.com/HariharasudhanAS/ML-Lab/master/Lab_2/overfitting2.png)\n",
    "\n",
    "<i><center> Source - Andrew Ng's course on Coursera </center></i>\n",
    "\n",
    "If you are interested in learning more, check this out - [Awesome lecture at University of British Columbia](https://youtu.be/-dCtJjlEEgM)\n"
   ]
  },
  {
   "cell_type": "markdown",
   "metadata": {},
   "source": [
    "# ID3 Algorithm for Classification\n",
    "\n",
    "We'll write code for Decision Trees which uses ID3 algorithm to build trees.\n",
    "\n",
    "- Entropy:\n",
    "\\begin{align}\n",
    "S_{0} = -\\sum_i^Np_{i}log_{2}p_{i}\n",
    "\\end{align}\n",
    "    - `find_entropy()` calulates entropy i.e. `S_0`\n",
    "- Information Gain:\n",
    "\\begin{align}\n",
    "I = S_{0} - \\sum_i^q(N_{i}/N)*S_{i}\n",
    "\\end{align}\n",
    "    - `find_max_ig()` calulates information gain i.e. `I`\n",
    "    - `find_entropy_attribute()` calulates:\n",
    "\\begin{align} \n",
    "\\sum_i^q(N_{i}/N)*S_{i}\n",
    "\\end{align}\n",
    "\n",
    "**You are provided with a Decision Tree Class and you're required the complete the above mentioned class methods.**"
   ]
  },
  {
   "cell_type": "code",
   "execution_count": 37,
   "metadata": {},
   "outputs": [],
   "source": [
    "import numpy as np\n",
    "import pandas as pd\n",
    "from pprint import pprint"
   ]
  },
  {
   "cell_type": "code",
   "execution_count": 38,
   "metadata": {},
   "outputs": [],
   "source": [
    "data = pd.DataFrame(\n",
    "    {'Taste':['Salty','Spicy','Spicy','Spicy','Spicy','Sweet','Salty','Sweet','Spicy','Salty'],\n",
    "     'Temperature':['Hot','Hot','Hot','Cold','Hot','Cold','Cold','Hot','Cold','Hot'],\n",
    "     'Texture':['Soft','Soft','Hard','Hard','Hard','Soft','Soft','Soft','Soft','Hard'],\n",
    "     'Eat':['No','No','Yes','No','Yes','Yes','No','Yes','Yes','Yes']},\n",
    "    columns=['Taste','Temperature','Texture','Eat'])"
   ]
  },
  {
   "cell_type": "code",
   "execution_count": 39,
   "metadata": {},
   "outputs": [
    {
     "data": {
      "text/html": [
       "<div>\n",
       "<style scoped>\n",
       "    .dataframe tbody tr th:only-of-type {\n",
       "        vertical-align: middle;\n",
       "    }\n",
       "\n",
       "    .dataframe tbody tr th {\n",
       "        vertical-align: top;\n",
       "    }\n",
       "\n",
       "    .dataframe thead th {\n",
       "        text-align: right;\n",
       "    }\n",
       "</style>\n",
       "<table border=\"1\" class=\"dataframe\">\n",
       "  <thead>\n",
       "    <tr style=\"text-align: right;\">\n",
       "      <th></th>\n",
       "      <th>Taste</th>\n",
       "      <th>Temperature</th>\n",
       "      <th>Texture</th>\n",
       "      <th>Eat</th>\n",
       "    </tr>\n",
       "  </thead>\n",
       "  <tbody>\n",
       "    <tr>\n",
       "      <td>0</td>\n",
       "      <td>Salty</td>\n",
       "      <td>Hot</td>\n",
       "      <td>Soft</td>\n",
       "      <td>No</td>\n",
       "    </tr>\n",
       "    <tr>\n",
       "      <td>1</td>\n",
       "      <td>Spicy</td>\n",
       "      <td>Hot</td>\n",
       "      <td>Soft</td>\n",
       "      <td>No</td>\n",
       "    </tr>\n",
       "    <tr>\n",
       "      <td>2</td>\n",
       "      <td>Spicy</td>\n",
       "      <td>Hot</td>\n",
       "      <td>Hard</td>\n",
       "      <td>Yes</td>\n",
       "    </tr>\n",
       "    <tr>\n",
       "      <td>3</td>\n",
       "      <td>Spicy</td>\n",
       "      <td>Cold</td>\n",
       "      <td>Hard</td>\n",
       "      <td>No</td>\n",
       "    </tr>\n",
       "    <tr>\n",
       "      <td>4</td>\n",
       "      <td>Spicy</td>\n",
       "      <td>Hot</td>\n",
       "      <td>Hard</td>\n",
       "      <td>Yes</td>\n",
       "    </tr>\n",
       "    <tr>\n",
       "      <td>5</td>\n",
       "      <td>Sweet</td>\n",
       "      <td>Cold</td>\n",
       "      <td>Soft</td>\n",
       "      <td>Yes</td>\n",
       "    </tr>\n",
       "    <tr>\n",
       "      <td>6</td>\n",
       "      <td>Salty</td>\n",
       "      <td>Cold</td>\n",
       "      <td>Soft</td>\n",
       "      <td>No</td>\n",
       "    </tr>\n",
       "    <tr>\n",
       "      <td>7</td>\n",
       "      <td>Sweet</td>\n",
       "      <td>Hot</td>\n",
       "      <td>Soft</td>\n",
       "      <td>Yes</td>\n",
       "    </tr>\n",
       "    <tr>\n",
       "      <td>8</td>\n",
       "      <td>Spicy</td>\n",
       "      <td>Cold</td>\n",
       "      <td>Soft</td>\n",
       "      <td>Yes</td>\n",
       "    </tr>\n",
       "    <tr>\n",
       "      <td>9</td>\n",
       "      <td>Salty</td>\n",
       "      <td>Hot</td>\n",
       "      <td>Hard</td>\n",
       "      <td>Yes</td>\n",
       "    </tr>\n",
       "  </tbody>\n",
       "</table>\n",
       "</div>"
      ],
      "text/plain": [
       "   Taste Temperature Texture  Eat\n",
       "0  Salty         Hot    Soft   No\n",
       "1  Spicy         Hot    Soft   No\n",
       "2  Spicy         Hot    Hard  Yes\n",
       "3  Spicy        Cold    Hard   No\n",
       "4  Spicy         Hot    Hard  Yes\n",
       "5  Sweet        Cold    Soft  Yes\n",
       "6  Salty        Cold    Soft   No\n",
       "7  Sweet         Hot    Soft  Yes\n",
       "8  Spicy        Cold    Soft  Yes\n",
       "9  Salty         Hot    Hard  Yes"
      ]
     },
     "execution_count": 39,
     "metadata": {},
     "output_type": "execute_result"
    }
   ],
   "source": [
    "data"
   ]
  },
  {
   "cell_type": "code",
   "execution_count": 40,
   "metadata": {},
   "outputs": [],
   "source": [
    "class DecisionTree(object):\n",
    "\n",
    "    def __init__(self):\n",
    "        self.tree = None\n",
    "        self.trained = False\n",
    "\n",
    "    def fit(self, data_frame):\n",
    "        if not isinstance(data_frame, pd.core.frame.DataFrame):\n",
    "            raise ValueError('Please provide data_frame as an instance of pandas '+\n",
    "                'DataFrame. Recieved data_frame as an instance of {}'.format(type(data_frame)))\n",
    "        self.tree = self.buildTree(data_frame)\n",
    "        self.trained = True\n",
    "        print('Decision Tree trained successfully.')\n",
    "\n",
    "    def buildTree(self, df, tree=None):\n",
    "        \"\"\"\n",
    "        Here we build our decision tree\n",
    "        \"\"\"\n",
    "        # Target variable\n",
    "        Class = df.keys()[-1]\n",
    "        # Get attribute with maximum information gain\n",
    "        node = self.find_max_ig(df)\n",
    "        # Get distinct value of that attribute e.g Salary is node and Low,Med and High are values\n",
    "        attValue = np.unique(df[node])\n",
    "        # Create an empty dictionary to create tree\n",
    "        if tree is None:                 \n",
    "            tree={}\n",
    "            tree[node] = {}\n",
    "        # We make loop to construct a tree by calling this function recursively.\n",
    "        # In this we check if the subset is pure and stops if it is pure.\n",
    "        for value in attValue:\n",
    "            subtable = self.get_subtable(df, node, value)\n",
    "            clValue, counts = np.unique(subtable['Eat'], return_counts=True)\n",
    "            # Checking purity of subset\n",
    "            if len(counts)==1:\n",
    "                # Subset is pure\n",
    "                tree[node][value] = clValue[0]\n",
    "            else:\n",
    "                # Calling the function recursively\n",
    "                tree[node][value] = self.buildTree(subtable)\n",
    "        return tree\n",
    "\n",
    "    def predict(self, X_test):\n",
    "        if not self.trained:\n",
    "            raise ValueError('You have to train the model before predicting. Use `model.fit(data)` to train')\n",
    "        if not isinstance(X_test, pd.core.frame.DataFrame) \\\n",
    "            and not isinstance(X_test, pd.core.series.Series):\n",
    "            raise ValueError('Please provide X_test as an instance of pandas '+\n",
    "                'Series or DataFrame. Recieved X_test as an instance of {}'.format(type(X_test)))\n",
    "        # If 1 sample is given\n",
    "        if isinstance(X_test, pd.core.series.Series):\n",
    "            return self.predict_sample(X_test, self.tree)\n",
    "        # If multiple samples are given\n",
    "        predictions = []\n",
    "        for i in range(len(X_test)):\n",
    "            predictions.append(self.predict_sample(X_test.iloc[i], self.tree))\n",
    "        return predictions\n",
    "\n",
    "    def predict_sample(self, sample, tree):\n",
    "        \"\"\"\n",
    "        This function is used to predict for any input sample(s) \n",
    "        Recursively we go through the tree that we built during training\n",
    "        \"\"\"\n",
    "        for nodes in tree.keys():  \n",
    "            value = sample[nodes]\n",
    "            tree = tree[nodes][value]\n",
    "            prediction = 0    \n",
    "            if type(tree) is dict:\n",
    "                prediction = self.predict_sample(sample, tree)\n",
    "            else:\n",
    "                prediction = tree\n",
    "                break\n",
    "        return prediction\n",
    "\n",
    "    def find_max_ig(self, df):\n",
    "        \"\"\"\n",
    "        Given a dataframe, find maximum information gain among all attributes\n",
    "        \"\"\"\n",
    "        ig_attributes = []\n",
    "        attributes = df.keys()[:-1]\n",
    "        for attribute in attributes:\n",
    "            gain = # Fill here\n",
    "            ig_attributes.append(gain)\n",
    "        return attributes[np.argmax(ig_attributes)]\n",
    "\n",
    "    def find_entropy(self, df):\n",
    "        \"\"\"\n",
    "        Find total entropy from an attribute\n",
    "        \"\"\"\n",
    "        Class = df.keys()[-1]\n",
    "        entropy = 0\n",
    "        labels = df[Class].unique()\n",
    "        for label in labels:\n",
    "            fraction = # Fill here\n",
    "            entropy += # Fill here\n",
    "        return entropy\n",
    "\n",
    "    def find_entropy_attribute(self, df, attribute):\n",
    "        \"\"\"\n",
    "        Find entropy from different values of an attribute\n",
    "        \"\"\"\n",
    "        eps = np.finfo(float).eps\n",
    "        # Class is target variable\n",
    "        Class = df.keys()[-1]\n",
    "        # labels are values in target variable (like 'YES'/'NO' or 0/1 etc.)\n",
    "        labels = df[Class].unique()\n",
    "        # variables are different values in that attribute (like 'Hot','Cold' in Temperature attribute)\n",
    "        variables = df[attribute].unique()\n",
    "        entropy2 = 0\n",
    "        for variable in variables:\n",
    "            entropy = 0\n",
    "            for label in labels:\n",
    "                numer = # Fill here\n",
    "                denom = # Fill here\n",
    "                fraction = numer/(denom+eps) # Why?\n",
    "                entropy += # Fill here\n",
    "            fraction2 = denom/len(df)\n",
    "            entropy2 += # Fill here\n",
    "        return abs(entropy2)\n",
    "\n",
    "    def get_subtable(self, df, node, value):\n",
    "        \"\"\"\n",
    "        Getting subset of dataset\n",
    "        \"\"\"\n",
    "        return df[df[node] == value].reset_index(drop=True)\n",
    "\n",
    "    def print_tree(self):\n",
    "        \"\"\"\n",
    "        Print the decision tree\n",
    "        \"\"\"\n",
    "        print('\\n\\t\\t\\t\\t===Decision Tree===\\n')\n",
    "        pprint(self.tree)"
   ]
  },
  {
   "cell_type": "code",
   "execution_count": 42,
   "metadata": {},
   "outputs": [],
   "source": [
    "# Uncomment to see solution\n",
    "#!cat id3.py"
   ]
  },
  {
   "cell_type": "code",
   "execution_count": 43,
   "metadata": {},
   "outputs": [],
   "source": [
    "model = DecisionTree()"
   ]
  },
  {
   "cell_type": "code",
   "execution_count": 44,
   "metadata": {},
   "outputs": [
    {
     "name": "stdout",
     "output_type": "stream",
     "text": [
      "Decision Tree trained successfully.\n"
     ]
    }
   ],
   "source": [
    "model.fit(data)"
   ]
  },
  {
   "cell_type": "code",
   "execution_count": 45,
   "metadata": {},
   "outputs": [
    {
     "name": "stdout",
     "output_type": "stream",
     "text": [
      "\n",
      "\t\t\t\t===Decision Tree===\n",
      "\n",
      "{'Taste': {'Salty': {'Texture': {'Hard': 'Yes', 'Soft': 'No'}},\n",
      "           'Spicy': {'Temperature': {'Cold': {'Texture': {'Hard': 'No',\n",
      "                                                          'Soft': 'Yes'}},\n",
      "                                     'Hot': {'Texture': {'Hard': 'Yes',\n",
      "                                                         'Soft': 'No'}}}},\n",
      "           'Sweet': 'Yes'}}\n"
     ]
    }
   ],
   "source": [
    "model.print_tree()"
   ]
  },
  {
   "cell_type": "code",
   "execution_count": 46,
   "metadata": {},
   "outputs": [
    {
     "data": {
      "text/plain": [
       "'No'"
      ]
     },
     "execution_count": 46,
     "metadata": {},
     "output_type": "execute_result"
    }
   ],
   "source": [
    "model.predict(data.loc[0])"
   ]
  },
  {
   "cell_type": "code",
   "execution_count": 47,
   "metadata": {},
   "outputs": [
    {
     "data": {
      "text/plain": [
       "['No', 'No', 'Yes', 'No', 'Yes', 'Yes', 'No', 'Yes', 'Yes', 'Yes']"
      ]
     },
     "execution_count": 47,
     "metadata": {},
     "output_type": "execute_result"
    }
   ],
   "source": [
    "model.predict(data)"
   ]
  },
  {
   "cell_type": "markdown",
   "metadata": {},
   "source": [
    "## Dataset"
   ]
  },
  {
   "cell_type": "code",
   "execution_count": 3,
   "metadata": {},
   "outputs": [],
   "source": [
    "df_raw = pd.read_csv(\"https://raw.githubusercontent.com/HariharasudhanAS/ML-Lab/master/Lab_2/train_data.csv\")"
   ]
  },
  {
   "cell_type": "code",
   "execution_count": 4,
   "metadata": {},
   "outputs": [
    {
     "data": {
      "text/html": [
       "<div>\n",
       "<style scoped>\n",
       "    .dataframe tbody tr th:only-of-type {\n",
       "        vertical-align: middle;\n",
       "    }\n",
       "\n",
       "    .dataframe tbody tr th {\n",
       "        vertical-align: top;\n",
       "    }\n",
       "\n",
       "    .dataframe thead th {\n",
       "        text-align: right;\n",
       "    }\n",
       "</style>\n",
       "<table border=\"1\" class=\"dataframe\">\n",
       "  <thead>\n",
       "    <tr style=\"text-align: right;\">\n",
       "      <th></th>\n",
       "      <th>cement</th>\n",
       "      <th>blast</th>\n",
       "      <th>flyash</th>\n",
       "      <th>water</th>\n",
       "      <th>sp</th>\n",
       "      <th>ca</th>\n",
       "      <th>fa</th>\n",
       "      <th>age</th>\n",
       "      <th>strength</th>\n",
       "    </tr>\n",
       "  </thead>\n",
       "  <tbody>\n",
       "    <tr>\n",
       "      <td>0</td>\n",
       "      <td>382.0</td>\n",
       "      <td>0.0</td>\n",
       "      <td>0.0</td>\n",
       "      <td>186.0</td>\n",
       "      <td>0.0</td>\n",
       "      <td>1047.0</td>\n",
       "      <td>739.0</td>\n",
       "      <td>7</td>\n",
       "      <td>24.00</td>\n",
       "    </tr>\n",
       "    <tr>\n",
       "      <td>1</td>\n",
       "      <td>310.0</td>\n",
       "      <td>142.8</td>\n",
       "      <td>0.0</td>\n",
       "      <td>167.9</td>\n",
       "      <td>10.0</td>\n",
       "      <td>914.3</td>\n",
       "      <td>804.0</td>\n",
       "      <td>28</td>\n",
       "      <td>45.30</td>\n",
       "    </tr>\n",
       "    <tr>\n",
       "      <td>2</td>\n",
       "      <td>310.0</td>\n",
       "      <td>0.0</td>\n",
       "      <td>0.0</td>\n",
       "      <td>192.0</td>\n",
       "      <td>0.0</td>\n",
       "      <td>1012.0</td>\n",
       "      <td>830.0</td>\n",
       "      <td>90</td>\n",
       "      <td>35.76</td>\n",
       "    </tr>\n",
       "    <tr>\n",
       "      <td>3</td>\n",
       "      <td>475.0</td>\n",
       "      <td>118.8</td>\n",
       "      <td>0.0</td>\n",
       "      <td>181.1</td>\n",
       "      <td>8.9</td>\n",
       "      <td>852.1</td>\n",
       "      <td>781.5</td>\n",
       "      <td>91</td>\n",
       "      <td>74.19</td>\n",
       "    </tr>\n",
       "    <tr>\n",
       "      <td>4</td>\n",
       "      <td>385.0</td>\n",
       "      <td>0.0</td>\n",
       "      <td>0.0</td>\n",
       "      <td>186.0</td>\n",
       "      <td>0.0</td>\n",
       "      <td>966.0</td>\n",
       "      <td>763.0</td>\n",
       "      <td>3</td>\n",
       "      <td>14.70</td>\n",
       "    </tr>\n",
       "  </tbody>\n",
       "</table>\n",
       "</div>"
      ],
      "text/plain": [
       "   cement  blast  flyash  water    sp      ca     fa  age  strength\n",
       "0   382.0    0.0     0.0  186.0   0.0  1047.0  739.0    7     24.00\n",
       "1   310.0  142.8     0.0  167.9  10.0   914.3  804.0   28     45.30\n",
       "2   310.0    0.0     0.0  192.0   0.0  1012.0  830.0   90     35.76\n",
       "3   475.0  118.8     0.0  181.1   8.9   852.1  781.5   91     74.19\n",
       "4   385.0    0.0     0.0  186.0   0.0   966.0  763.0    3     14.70"
      ]
     },
     "execution_count": 4,
     "metadata": {},
     "output_type": "execute_result"
    }
   ],
   "source": [
    "df_raw.head()"
   ]
  },
  {
   "cell_type": "code",
   "execution_count": 5,
   "metadata": {},
   "outputs": [
    {
     "data": {
      "text/plain": [
       "(721, 9)"
      ]
     },
     "execution_count": 5,
     "metadata": {},
     "output_type": "execute_result"
    }
   ],
   "source": [
    "df_raw.shape"
   ]
  },
  {
   "cell_type": "markdown",
   "metadata": {},
   "source": [
    "## Training, validation and testing"
   ]
  },
  {
   "cell_type": "markdown",
   "metadata": {},
   "source": [
    "Underfitting occurs if the model or algorithm shows low variance but high bias (to contrast the opposite, overfitting from high variance and low bias). How do we make sure we don't under-fit or over-fit a model?\n",
    "\n",
    "We use a seperate dataset called the validation dataset. Typical split of Train, validation and test dataset is 60:20:20.\n",
    "\n",
    "Step 1: Fit our model on the train dataset using a set of hyperparameters\n",
    "\n",
    "\n",
    "Step 2: Measure the score of our model on validation set\n",
    "\n",
    "\n",
    "Step 3: If score on validation set is better than training set - we under-fit our training dataset. If score on validation set is worse than training set - we are overfitting\n",
    "        \n",
    "        \n",
    "Step 4: Tune our hyperparameters such that the score is almost the same on both train and validation dataset.\n",
    "\n",
    "\n",
    "<b>Note:</b> Never look into the test dataset. It might make you biased towards a particular idea. We assume that the test dataset follows the distribution of the train dataset. This might not be true especially in timeseries data, but there are other ways of dealing with it. "
   ]
  },
  {
   "cell_type": "code",
   "execution_count": 45,
   "metadata": {},
   "outputs": [],
   "source": [
    "# Scoring function, we use rmse\n",
    "\n",
    "def score(y_actual, y_preds):\n",
    "    return sqrt(mean_squared_error(y_actual, y_preds))"
   ]
  },
  {
   "cell_type": "code",
   "execution_count": 46,
   "metadata": {},
   "outputs": [],
   "source": [
    "# Extract the target variable from train dataset\n",
    "\n",
    "y = df_raw['strength']\n",
    "df_raw.drop('strength', axis=1, inplace=True)"
   ]
  },
  {
   "cell_type": "code",
   "execution_count": 47,
   "metadata": {},
   "outputs": [],
   "source": [
    "# Split train data into train and validation data\n",
    "\n",
    "X_train, X_valid, y_train, y_valid = train_test_split(df_raw, y, test_size=0.3, shuffle=True)"
   ]
  },
  {
   "cell_type": "markdown",
   "metadata": {},
   "source": [
    "## Fitting the model"
   ]
  },
  {
   "cell_type": "code",
   "execution_count": 281,
   "metadata": {},
   "outputs": [],
   "source": [
    "## See source of function\n",
    "\n",
    "??DecisionTreeRegressor"
   ]
  },
  {
   "cell_type": "code",
   "execution_count": 271,
   "metadata": {},
   "outputs": [],
   "source": [
    "model1 = DecisionTreeRegressor(max_depth=10, min_samples_leaf=10, random_state=42)"
   ]
  },
  {
   "cell_type": "code",
   "execution_count": 272,
   "metadata": {},
   "outputs": [
    {
     "name": "stdout",
     "output_type": "stream",
     "text": [
      "CPU times: user 4.75 ms, sys: 0 ns, total: 4.75 ms\n",
      "Wall time: 4.6 ms\n"
     ]
    },
    {
     "data": {
      "text/plain": [
       "DecisionTreeRegressor(criterion='mse', max_depth=10, max_features=None,\n",
       "                      max_leaf_nodes=None, min_impurity_decrease=0.0,\n",
       "                      min_impurity_split=None, min_samples_leaf=10,\n",
       "                      min_samples_split=2, min_weight_fraction_leaf=0.0,\n",
       "                      presort=False, random_state=42, splitter='best')"
      ]
     },
     "execution_count": 272,
     "metadata": {},
     "output_type": "execute_result"
    }
   ],
   "source": [
    "%time model1.fit(X_train, y_train)"
   ]
  },
  {
   "cell_type": "code",
   "execution_count": 273,
   "metadata": {},
   "outputs": [
    {
     "data": {
      "text/plain": [
       "6.034861627895281"
      ]
     },
     "execution_count": 273,
     "metadata": {},
     "output_type": "execute_result"
    }
   ],
   "source": [
    "score(y_train, model1.predict(X_train))"
   ]
  },
  {
   "cell_type": "code",
   "execution_count": 274,
   "metadata": {},
   "outputs": [
    {
     "data": {
      "text/plain": [
       "9.450166404626753"
      ]
     },
     "execution_count": 274,
     "metadata": {},
     "output_type": "execute_result"
    }
   ],
   "source": [
    "score(y_valid, model1.predict(X_valid))"
   ]
  },
  {
   "cell_type": "code",
   "execution_count": 275,
   "metadata": {},
   "outputs": [],
   "source": [
    "# Overfitting to the train dataset\n",
    "\n",
    "model2 = DecisionTreeRegressor(max_depth=10, min_samples_leaf=2, random_state=42)"
   ]
  },
  {
   "cell_type": "code",
   "execution_count": 276,
   "metadata": {},
   "outputs": [
    {
     "name": "stdout",
     "output_type": "stream",
     "text": [
      "CPU times: user 4.87 ms, sys: 0 ns, total: 4.87 ms\n",
      "Wall time: 3.97 ms\n"
     ]
    },
    {
     "data": {
      "text/plain": [
       "DecisionTreeRegressor(criterion='mse', max_depth=10, max_features=None,\n",
       "                      max_leaf_nodes=None, min_impurity_decrease=0.0,\n",
       "                      min_impurity_split=None, min_samples_leaf=2,\n",
       "                      min_samples_split=2, min_weight_fraction_leaf=0.0,\n",
       "                      presort=False, random_state=42, splitter='best')"
      ]
     },
     "execution_count": 276,
     "metadata": {},
     "output_type": "execute_result"
    }
   ],
   "source": [
    "%time model2.fit(X_train, y_train)"
   ]
  },
  {
   "cell_type": "code",
   "execution_count": 277,
   "metadata": {},
   "outputs": [
    {
     "data": {
      "text/plain": [
       "2.7981994133888795"
      ]
     },
     "execution_count": 277,
     "metadata": {},
     "output_type": "execute_result"
    }
   ],
   "source": [
    "score(y_train, model2.predict(X_train))"
   ]
  },
  {
   "cell_type": "code",
   "execution_count": 278,
   "metadata": {},
   "outputs": [
    {
     "data": {
      "text/plain": [
       "9.371184783771666"
      ]
     },
     "execution_count": 278,
     "metadata": {},
     "output_type": "execute_result"
    }
   ],
   "source": [
    "score(y_valid, model2.predict(X_valid))"
   ]
  },
  {
   "cell_type": "code",
   "execution_count": 280,
   "metadata": {},
   "outputs": [
    {
     "data": {
      "text/plain": [
       "[Text(167.4, 181.2, 'X[7] <= 21.0\\nmse = 284.767\\nsamples = 504\\nvalue = 35.736'),\n",
       " Text(83.7, 108.72, 'X[0] <= 356.3\\nmse = 133.316\\nsamples = 153\\nvalue = 23.041'),\n",
       " Text(41.85, 36.23999999999998, 'mse = 69.171\\nsamples = 109\\nvalue = 18.641'),\n",
       " Text(125.55000000000001, 36.23999999999998, 'mse = 125.415\\nsamples = 44\\nvalue = 33.942'),\n",
       " Text(251.10000000000002, 108.72, 'X[0] <= 352.5\\nmse = 249.921\\nsamples = 351\\nvalue = 41.269'),\n",
       " Text(209.25, 36.23999999999998, 'mse = 158.657\\nsamples = 267\\nvalue = 36.057'),\n",
       " Text(292.95, 36.23999999999998, 'mse = 179.228\\nsamples = 84\\nvalue = 57.835')]"
      ]
     },
     "execution_count": 280,
     "metadata": {},
     "output_type": "execute_result"
    },
    {
     "data": {
      "image/png": "[encoded data removed]",
      "text/plain": [
       "<Figure size 432x288 with 1 Axes>"
      ]
     },
     "metadata": {
      "needs_background": "light"
     },
     "output_type": "display_data"
    }
   ],
   "source": [
    "## Plotting a tree\n",
    "\n",
    "model1 = DecisionTreeRegressor(max_depth=2, min_samples_leaf=10, random_state=42)\n",
    "\n",
    "tree.plot_tree(model1.fit(X_train, y_train))"
   ]
  },
  {
   "cell_type": "markdown",
   "metadata": {},
   "source": [
    "The above diagram implies that the tree has split the input space into 4"
   ]
  },
  {
   "cell_type": "markdown",
   "metadata": {},
   "source": [
    "## Bagging"
   ]
  },
  {
   "cell_type": "markdown",
   "metadata": {},
   "source": [
    "Trees have low bias inherently. Inorder to better model the dataset, we use RandomForests. This is a type of ensemble model - meaning it uses the result of many models to improve the final prediction.\n",
    "\n",
    "This is done by bootstrapping and features sampling. \n",
    "\n",
    "<b>Bootstrapping:</b>\n",
    "\n",
    "Bootstrapping in this context referes to the process of training many models on different subsets of the data (with resampling -ie replacement). The individual models are assumed to be of high variance which is the case in trees.\n",
    "\n",
    "<b>Random feature subsampling:</b>\n",
    "\n",
    "Each model does not have access to all columns of the dataset (All variables of the input space). A fraction of it is made available and the selection process is random for each model. \n",
    "\n",
    "The above methods maintain the same bias but reduce the variance"
   ]
  },
  {
   "cell_type": "code",
   "execution_count": 282,
   "metadata": {},
   "outputs": [],
   "source": [
    "from sklearn.ensemble import RandomForestRegressor"
   ]
  },
  {
   "cell_type": "code",
   "execution_count": 283,
   "metadata": {},
   "outputs": [],
   "source": [
    "model3 = RandomForestRegressor(max_features=0.7, bootstrap=True, max_depth=10, min_samples_leaf=2, random_state=42)"
   ]
  },
  {
   "cell_type": "code",
   "execution_count": 286,
   "metadata": {},
   "outputs": [
    {
     "data": {
      "text/plain": [
       "RandomForestRegressor(bootstrap=True, criterion='mse', max_depth=10,\n",
       "                      max_features=0.7, max_leaf_nodes=None,\n",
       "                      min_impurity_decrease=0.0, min_impurity_split=None,\n",
       "                      min_samples_leaf=2, min_samples_split=2,\n",
       "                      min_weight_fraction_leaf=0.0, n_estimators=10,\n",
       "                      n_jobs=None, oob_score=False, random_state=42, verbose=0,\n",
       "                      warm_start=False)"
      ]
     },
     "execution_count": 286,
     "metadata": {},
     "output_type": "execute_result"
    }
   ],
   "source": [
    "model3.fit(X_train, y_train)"
   ]
  },
  {
   "cell_type": "code",
   "execution_count": 288,
   "metadata": {},
   "outputs": [
    {
     "data": {
      "text/plain": [
       "3.50480923647186"
      ]
     },
     "execution_count": 288,
     "metadata": {},
     "output_type": "execute_result"
    }
   ],
   "source": [
    "score(y_train, model3.predict(X_train))"
   ]
  },
  {
   "cell_type": "code",
   "execution_count": 287,
   "metadata": {},
   "outputs": [
    {
     "data": {
      "text/plain": [
       "6.389048914645898"
      ]
     },
     "execution_count": 287,
     "metadata": {},
     "output_type": "execute_result"
    }
   ],
   "source": [
    "score(y_valid, model3.predict(X_valid))"
   ]
  },
  {
   "cell_type": "markdown",
   "metadata": {},
   "source": [
    "As you can see, it has worse score on train dataset and better score on validation dataset compared to Decision tree regresser using the same parameters"
   ]
  },
  {
   "cell_type": "markdown",
   "metadata": {},
   "source": [
    "### Visualizing bagging"
   ]
  },
  {
   "cell_type": "code",
   "execution_count": 298,
   "metadata": {},
   "outputs": [],
   "source": [
    "# Collect the prediction from different trees in the forest\n",
    "\n",
    "preds = np.stack([t.predict(X_valid) for t in model3.estimators_])"
   ]
  },
  {
   "cell_type": "code",
   "execution_count": 299,
   "metadata": {},
   "outputs": [
    {
     "data": {
      "text/plain": [
       "(10, 217)"
      ]
     },
     "execution_count": 299,
     "metadata": {},
     "output_type": "execute_result"
    }
   ],
   "source": [
    "# We have prediction for each of the 217 rows from all 10 trees in the forest\n",
    "\n",
    "preds.shape"
   ]
  },
  {
   "cell_type": "code",
   "execution_count": 302,
   "metadata": {},
   "outputs": [
    {
     "data": {
      "image/png": "[encoded data removed]",
      "text/plain": [
       "<Figure size 432x288 with 1 Axes>"
      ]
     },
     "metadata": {
      "needs_background": "light"
     },
     "output_type": "display_data"
    }
   ],
   "source": [
    "# Plot metric vs number of trees\n",
    "\n",
    "from matplotlib import pyplot as plt\n",
    "plt.plot([sqrt(mean_squared_error(y_valid, np.mean(preds[:i+1], axis=0))) for i in range(10)])\n",
    "plt.xlabel('Number of trees')\n",
    "plt.ylabel('RMSE');"
   ]
  },
  {
   "cell_type": "markdown",
   "metadata": {},
   "source": [
    "## Kaggle contest"
   ]
  },
  {
   "cell_type": "code",
   "execution_count": 6,
   "metadata": {},
   "outputs": [],
   "source": [
    "# All you had to do for last week's kaggle contest\n",
    "\n",
    "df_raw = pd.read_csv(\"https://raw.githubusercontent.com/HariharasudhanAS/ML-Lab/master/Lab_2/train_data.csv\")\n",
    "df_test = pd.read_csv(\"https://raw.githubusercontent.com/HariharasudhanAS/ML-Lab/master/Lab_2/test_data.csv\")"
   ]
  },
  {
   "cell_type": "code",
   "execution_count": 7,
   "metadata": {},
   "outputs": [],
   "source": [
    "y = df_raw['strength']\n",
    "df_raw.drop('strength', axis=1, inplace=True)"
   ]
  },
  {
   "cell_type": "code",
   "execution_count": 311,
   "metadata": {},
   "outputs": [],
   "source": [
    "# Tweak hyperparameters\n",
    "\n",
    "model = RandomForestRegressor()"
   ]
  },
  {
   "cell_type": "code",
   "execution_count": 312,
   "metadata": {},
   "outputs": [
    {
     "data": {
      "text/plain": [
       "RandomForestRegressor(bootstrap=True, criterion='mse', max_depth=None,\n",
       "                      max_features='auto', max_leaf_nodes=None,\n",
       "                      min_impurity_decrease=0.0, min_impurity_split=None,\n",
       "                      min_samples_leaf=1, min_samples_split=2,\n",
       "                      min_weight_fraction_leaf=0.0, n_estimators=10,\n",
       "                      n_jobs=None, oob_score=False, random_state=None,\n",
       "                      verbose=0, warm_start=False)"
      ]
     },
     "execution_count": 312,
     "metadata": {},
     "output_type": "execute_result"
    }
   ],
   "source": [
    "model.fit(df_raw, y)"
   ]
  },
  {
   "cell_type": "code",
   "execution_count": 315,
   "metadata": {},
   "outputs": [],
   "source": [
    "test_preds = model.predict(df_test)\n",
    "submit = pd.DataFrame()\n",
    "submit['Id'] = np.arange(0,len(test_preds))\n",
    "submit['Predicted'] = test_preds\n",
    "submit.to_csv(\"sample_submission.csv\", index=False)"
   ]
  }
 ],
 "metadata": {
  "kernelspec": {
   "display_name": "Python 3",
   "language": "python",
   "name": "python3"
  },
  "language_info": {
   "codemirror_mode": {
    "name": "ipython",
    "version": 3
   },
   "file_extension": ".py",
   "mimetype": "text/x-python",
   "name": "python",
   "nbconvert_exporter": "python",
   "pygments_lexer": "ipython3",
   "version": "3.6.8"
  }
 },
 "nbformat": 4,
 "nbformat_minor": 2
}
