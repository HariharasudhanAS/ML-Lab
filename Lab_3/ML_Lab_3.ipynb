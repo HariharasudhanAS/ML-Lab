{
  "nbformat": 4,
  "nbformat_minor": 0,
  "metadata": {
    "colab": {
      "name": "ML_Lab_3.ipynb",
      "provenance": [],
      "collapsed_sections": []
    },
    "kernelspec": {
      "name": "python3",
      "display_name": "Python 3"
    }
  },
  "cells": [
    {
      "cell_type": "markdown",
      "metadata": {
        "id": "LvTALordv9Ki",
        "colab_type": "text"
      },
      "source": [
        "## Download MNIST Data, loader"
      ]
    },
    {
      "cell_type": "code",
      "metadata": {
        "id": "3hcRwhP6v6LN",
        "colab_type": "code",
        "outputId": "cfd596dd-0547-4d72-cec3-c448f7878735",
        "colab": {
          "base_uri": "https://localhost:8080/",
          "height": 304
        }
      },
      "source": [
        "!wget https://github.com/HariharasudhanAS/HandcraftedNets/raw/master/data/mnist.pkl.gz"
      ],
      "execution_count": 0,
      "outputs": [
        {
          "output_type": "stream",
          "text": [
            "--2019-10-21 05:17:53--  https://github.com/HariharasudhanAS/HandcraftedNets/raw/master/data/mnist.pkl.gz\n",
            "Resolving github.com (github.com)... 192.30.255.112\n",
            "Connecting to github.com (github.com)|192.30.255.112|:443... connected.\n",
            "HTTP request sent, awaiting response... 302 Found\n",
            "Location: https://raw.githubusercontent.com/HariharasudhanAS/HandcraftedNets/master/data/mnist.pkl.gz [following]\n",
            "--2019-10-21 05:17:54--  https://raw.githubusercontent.com/HariharasudhanAS/HandcraftedNets/master/data/mnist.pkl.gz\n",
            "Resolving raw.githubusercontent.com (raw.githubusercontent.com)... 151.101.0.133, 151.101.64.133, 151.101.128.133, ...\n",
            "Connecting to raw.githubusercontent.com (raw.githubusercontent.com)|151.101.0.133|:443... connected.\n",
            "HTTP request sent, awaiting response... 200 OK\n",
            "Length: 17051982 (16M) [application/octet-stream]\n",
            "Saving to: ‘mnist.pkl.gz’\n",
            "\n",
            "\rmnist.pkl.gz          0%[                    ]       0  --.-KB/s               \rmnist.pkl.gz        100%[===================>]  16.26M  --.-KB/s    in 0.1s    \n",
            "\n",
            "2019-10-21 05:17:54 (145 MB/s) - ‘mnist.pkl.gz’ saved [17051982/17051982]\n",
            "\n"
          ],
          "name": "stdout"
        }
      ]
    },
    {
      "cell_type": "code",
      "metadata": {
        "id": "U8W8TvXIxQ7w",
        "colab_type": "code",
        "outputId": "bdd9de71-9acd-4180-f1d4-d116444f214e",
        "colab": {
          "base_uri": "https://localhost:8080/",
          "height": 214
        }
      },
      "source": [
        "!wget https://raw.githubusercontent.com/HariharasudhanAS/HandcraftedNets/master/mnist_loader.py"
      ],
      "execution_count": 0,
      "outputs": [
        {
          "output_type": "stream",
          "text": [
            "--2019-10-21 05:23:26--  https://raw.githubusercontent.com/HariharasudhanAS/HandcraftedNets/master/mnist_loader.py\n",
            "Resolving raw.githubusercontent.com (raw.githubusercontent.com)... 151.101.0.133, 151.101.64.133, 151.101.128.133, ...\n",
            "Connecting to raw.githubusercontent.com (raw.githubusercontent.com)|151.101.0.133|:443... connected.\n",
            "HTTP request sent, awaiting response... 200 OK\n",
            "Length: 3485 (3.4K) [text/plain]\n",
            "Saving to: ‘mnist_loader.py’\n",
            "\n",
            "\rmnist_loader.py       0%[                    ]       0  --.-KB/s               \rmnist_loader.py     100%[===================>]   3.40K  --.-KB/s    in 0s      \n",
            "\n",
            "2019-10-21 05:23:26 (75.0 MB/s) - ‘mnist_loader.py’ saved [3485/3485]\n",
            "\n"
          ],
          "name": "stdout"
        }
      ]
    },
    {
      "cell_type": "markdown",
      "metadata": {
        "id": "8N4FLuBQwDS0",
        "colab_type": "text"
      },
      "source": [
        "## Theory"
      ]
    },
    {
      "cell_type": "markdown",
      "metadata": {
        "id": "BhaEkPSgwnZ7",
        "colab_type": "text"
      },
      "source": [
        "Representation of a single neuron\n",
        "\n",
        "![Neuron](http://neuralnetworksanddeeplearning.com/images/tikz9.png)\n",
        "\n",
        "If x1, x2, x3 are inputs, we have weights w1, w2, w3 and bias b.\n",
        "\n",
        "Output z is calculated as z = σ(w⋅x+b) where σ represents the sigmoid function.\n",
        "\n",
        "\n",
        "```\n",
        "z = w1*x1 + w2*x2 + w3*x3 + b\n",
        "```\n",
        "\n",
        " \n",
        "<img src=\"https://hvidberrrg.github.io/deep_learning/activation_functions/assets/sigmoid_function.png\" alt=\"Sigmoid Fn\" width=\"300\" height=\"200\"> \n",
        " \n",
        "\n",
        "The sigmoid function is used to bring in non-linearity to the network.\n",
        "\n",
        "<img src=\"http://neuralnetworksanddeeplearning.com/images/tikz11.png\" alt=\"Multi-layer NN\" width=\"400\" height=\"200\"> \n",
        "\n",
        "Other resources:\n",
        "\n",
        "[3Blue1Brown YouTube series](https://www.3blue1brown.com/neural-networks)\n",
        "\n",
        "\n",
        "[Nielsen's online NN book](http://neuralnetworksanddeeplearning.com)\n",
        "\n",
        "[cs231n backprop tutorial](http://cs231n.github.io/optimization-2/)\n",
        "\n",
        "\n",
        "## Neural Network forward and backward pass\n",
        "\n",
        "![..](https://i.imgur.com/h2z7NDB.png)"
      ]
    },
    {
      "cell_type": "markdown",
      "metadata": {
        "id": "HtDx1rZj4ENS",
        "colab_type": "text"
      },
      "source": [
        "## Implementation"
      ]
    },
    {
      "cell_type": "code",
      "metadata": {
        "id": "_hkWQXslr1kX",
        "colab_type": "code",
        "colab": {}
      },
      "source": [
        "import numpy as np\n",
        "import random"
      ],
      "execution_count": 0,
      "outputs": []
    },
    {
      "cell_type": "markdown",
      "metadata": {
        "id": "kubLPv8f7BQk",
        "colab_type": "text"
      },
      "source": [
        "Complete the following class"
      ]
    },
    {
      "cell_type": "code",
      "metadata": {
        "id": "-wVN3Nbf4IcK",
        "colab_type": "code",
        "colab": {}
      },
      "source": [
        "class Network(object):\n",
        "\n",
        "    def __init__(self,sizes):\n",
        "        # number of layers\n",
        "        self.num_layers = len(sizes)\n",
        "        # size of each layer as a list\n",
        "        self.sizes = sizes\n",
        "        # creates biases for all layers except the first layer\n",
        "        self.biases = [np.random.randn(y,1) for y in sizes[1:]]\n",
        "        # matrix of weights for\n",
        "        self.weights = [np.random.randn(y,x) for x, y in zip(sizes[:-1], sizes[1:])]\n",
        "\n",
        "    def feedforward(self, a):\n",
        "        \n",
        "        for b, w in zip(self.biases, self.weights):\n",
        "            a = '''Fill here'''\n",
        "        \n",
        "        return a\n",
        "\n",
        "    def SGD(self, training_data, epochs, mini_batch_size, eta, test_data=None):\n",
        "        \n",
        "        if test_data:\n",
        "            n_test = len(test_data)\n",
        "        \n",
        "        n = len(training_data)\n",
        "        \n",
        "        for j in xrange(epochs):\n",
        "            random.shuffle(training_data)\n",
        "            mini_batchs = [training_data[k:k+mini_batch_size] for k in xrange(0,n,mini_batch_size)]\n",
        "            \n",
        "            for mini_batch in mini_batchs:\n",
        "                self.update_mini_batch(mini_batch, eta)\n",
        "            \n",
        "            if test_data:\n",
        "                print (\"Epoch {0} : {1} / {2}\".format(j, self.evaluate(test_data), n_test))\n",
        "            else:\n",
        "                print(\"Epoch \" + j +\" complete\")\n",
        "\n",
        "    def update_mini_batch(self, mini_batch, eta):\n",
        "        \n",
        "        nabla_b = [np.zeros(b.shape) for b in self.biases]\n",
        "        nabla_w = [np.zeros(w.shape) for w in self.weights]\n",
        "        \n",
        "        for x,y in mini_batch:\n",
        "            delta_nabla_b, delta_nabla_w = self.backprop(x,y)\n",
        "            nabla_b = [nb+dnb for nb, dnb in zip(nabla_b, delta_nabla_b)]\n",
        "            nabla_w = [nw+dnw for nw, dnw in zip(nabla_w, delta_nabla_w)]\n",
        "        \n",
        "        self.weights = [w-(eta/len(mini_batch))*nw for w, nw in zip(self.weights, nabla_w)]\n",
        "        \n",
        "        self.biases = [b-(eta/len(mini_batch))*nb for b,nb in zip(self.biases, nabla_b)]\n",
        "\n",
        "    def backprop(self,x,y):\n",
        "        \n",
        "        nabla_b = [np.zeros(b.shape) for b in self.biases]\n",
        "        nabla_w = [np.zeros(w.shape) for w in self.weights]\n",
        "\n",
        "        activation = x\n",
        "        activations =[x]\n",
        "        zs = []\n",
        "        \n",
        "        for b, w in zip(self.biases, self.weights):\n",
        "            z = np.dot(w, activation)+b\n",
        "            zs.append(z)\n",
        "            activation = sigmoid(z)\n",
        "            activations.append(activation)\n",
        "        delta = self.cost_derivative(activations[-1],y) * sigmoid_prime(zs[-1])\n",
        "        nabla_b[-1] = delta\n",
        "        nabla_w[-1] = np.dot(delta, activations[-2].transpose())\n",
        "        \n",
        "        for l in xrange(2, self.num_layers):\n",
        "            z = zs[-l]\n",
        "            sp = sigmoid_prime(z)\n",
        "            delta = np.dot(self.weights[-l + 1].transpose(), delta) * sp\n",
        "            nabla_b[-l] = delta\n",
        "            nabla_w[-l] = np.dot(delta, activations[-l - 1].transpose())\n",
        "        \n",
        "        return (nabla_b, nabla_w)\n",
        "\n",
        "    def evaluate(self, test_data):\n",
        "        \n",
        "        test_results = [(np.argmax(self.feedforward(x)), y) for (x, y) in test_data]\n",
        "        \n",
        "        return sum(int(x == y) for (x, y) in test_results)\n",
        "\n",
        "    def cost_derivative(self, output_activations, y):\n",
        "        \n",
        "        return (output_activations-y)\n",
        "\n",
        "\n",
        "###\n",
        "def sigmoid(z):\n",
        "    \n",
        "    return 1.0/(1.0+np.exp(-z))\n",
        "\n",
        "def sigmoid_prime(z):\n",
        "    \n",
        "    return(sigmoid(z)*(1-sigmoid(z)))"
      ],
      "execution_count": 0,
      "outputs": []
    },
    {
      "cell_type": "code",
      "metadata": {
        "id": "jzQ0oWeX63Db",
        "colab_type": "code",
        "colab": {}
      },
      "source": [
        "import mnist_loader\n",
        "\n",
        "training_data, validation_data, test_data = mnist_loader.load_data_wrapper()\n",
        "\n",
        "net = network.Network([784, 30, 10]) #Architecture\n",
        "\n",
        "net.SGD(training_data, 30, 10, 3.0, test_data=test_data)"
      ],
      "execution_count": 0,
      "outputs": []
    },
    {
      "cell_type": "code",
      "metadata": {
        "id": "GFkkVKj8YIL0",
        "colab_type": "code",
        "colab": {}
      },
      "source": [
        ""
      ],
      "execution_count": 0,
      "outputs": []
    }
  ]
}